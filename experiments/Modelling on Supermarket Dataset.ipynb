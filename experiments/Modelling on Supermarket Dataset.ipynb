{
 "cells": [
  {
   "cell_type": "markdown",
   "metadata": {},
   "source": [
    "# Supermarket Sales Dataset\n",
    "\n",
    "Description:\n",
    "* 1000 rows, 6 parent and 7 child features\n",
    "\n",
    "Parent features:\n",
    "* Branch, City, Customer type, Gender, Product line, Unit price\n",
    "\n",
    "Child features:\n",
    "* Quantity, Tax 5%, Total, Month, Date, Time, Payment\n",
    "\n",
    "Source: https://www.kaggle.com/aungpyaeap/supermarket-sales"
   ]
  },
  {
   "cell_type": "code",
   "execution_count": 1,
   "metadata": {
    "ExecuteTime": {
     "end_time": "2020-07-13T17:54:21.828021Z",
     "start_time": "2020-07-13T17:54:21.823038Z"
    }
   },
   "outputs": [],
   "source": [
    "import sys\n",
    "sys.path.append(\"C:/Users/notes/grab\")"
   ]
  },
  {
   "cell_type": "code",
   "execution_count": 2,
   "metadata": {
    "ExecuteTime": {
     "end_time": "2020-07-13T17:54:23.194630Z",
     "start_time": "2020-07-13T17:54:22.213068Z"
    }
   },
   "outputs": [],
   "source": [
    "import numpy as np\n",
    "import pandas as pd\n",
    "import matplotlib.pyplot as plt"
   ]
  },
  {
   "cell_type": "code",
   "execution_count": 3,
   "metadata": {
    "ExecuteTime": {
     "end_time": "2020-07-13T17:54:23.211841Z",
     "start_time": "2020-07-13T17:54:23.196629Z"
    }
   },
   "outputs": [],
   "source": [
    "sm = pd.read_csv(\"../data/supermarket.csv\")"
   ]
  },
  {
   "cell_type": "code",
   "execution_count": 4,
   "metadata": {
    "ExecuteTime": {
     "end_time": "2020-07-13T17:54:23.237793Z",
     "start_time": "2020-07-13T17:54:23.214832Z"
    }
   },
   "outputs": [
    {
     "data": {
      "text/html": [
       "<div>\n",
       "<style scoped>\n",
       "    .dataframe tbody tr th:only-of-type {\n",
       "        vertical-align: middle;\n",
       "    }\n",
       "\n",
       "    .dataframe tbody tr th {\n",
       "        vertical-align: top;\n",
       "    }\n",
       "\n",
       "    .dataframe thead th {\n",
       "        text-align: right;\n",
       "    }\n",
       "</style>\n",
       "<table border=\"1\" class=\"dataframe\">\n",
       "  <thead>\n",
       "    <tr style=\"text-align: right;\">\n",
       "      <th></th>\n",
       "      <th>Branch</th>\n",
       "      <th>City</th>\n",
       "      <th>Customer type</th>\n",
       "      <th>Gender</th>\n",
       "      <th>Product line</th>\n",
       "      <th>Unit price</th>\n",
       "    </tr>\n",
       "  </thead>\n",
       "  <tbody>\n",
       "    <tr>\n",
       "      <th>0</th>\n",
       "      <td>A</td>\n",
       "      <td>Yangon</td>\n",
       "      <td>Member</td>\n",
       "      <td>Female</td>\n",
       "      <td>Health and beauty</td>\n",
       "      <td>74.69</td>\n",
       "    </tr>\n",
       "    <tr>\n",
       "      <th>1</th>\n",
       "      <td>C</td>\n",
       "      <td>Naypyitaw</td>\n",
       "      <td>Normal</td>\n",
       "      <td>Female</td>\n",
       "      <td>Electronic accessories</td>\n",
       "      <td>15.28</td>\n",
       "    </tr>\n",
       "    <tr>\n",
       "      <th>2</th>\n",
       "      <td>A</td>\n",
       "      <td>Yangon</td>\n",
       "      <td>Normal</td>\n",
       "      <td>Male</td>\n",
       "      <td>Home and lifestyle</td>\n",
       "      <td>46.33</td>\n",
       "    </tr>\n",
       "    <tr>\n",
       "      <th>3</th>\n",
       "      <td>A</td>\n",
       "      <td>Yangon</td>\n",
       "      <td>Member</td>\n",
       "      <td>Male</td>\n",
       "      <td>Health and beauty</td>\n",
       "      <td>58.22</td>\n",
       "    </tr>\n",
       "    <tr>\n",
       "      <th>4</th>\n",
       "      <td>A</td>\n",
       "      <td>Yangon</td>\n",
       "      <td>Normal</td>\n",
       "      <td>Male</td>\n",
       "      <td>Sports and travel</td>\n",
       "      <td>86.31</td>\n",
       "    </tr>\n",
       "  </tbody>\n",
       "</table>\n",
       "</div>"
      ],
      "text/plain": [
       "  Branch       City Customer type  Gender            Product line  Unit price\n",
       "0      A     Yangon        Member  Female       Health and beauty       74.69\n",
       "1      C  Naypyitaw        Normal  Female  Electronic accessories       15.28\n",
       "2      A     Yangon        Normal    Male      Home and lifestyle       46.33\n",
       "3      A     Yangon        Member    Male       Health and beauty       58.22\n",
       "4      A     Yangon        Normal    Male       Sports and travel       86.31"
      ]
     },
     "execution_count": 4,
     "metadata": {},
     "output_type": "execute_result"
    }
   ],
   "source": [
    "parent = sm[['Branch', 'City', 'Customer type', 'Gender', 'Product line', 'Unit price']]\n",
    "parent.head()"
   ]
  },
  {
   "cell_type": "code",
   "execution_count": 5,
   "metadata": {
    "ExecuteTime": {
     "end_time": "2020-07-13T17:54:23.257169Z",
     "start_time": "2020-07-13T17:54:23.240795Z"
    }
   },
   "outputs": [
    {
     "data": {
      "text/html": [
       "<div>\n",
       "<style scoped>\n",
       "    .dataframe tbody tr th:only-of-type {\n",
       "        vertical-align: middle;\n",
       "    }\n",
       "\n",
       "    .dataframe tbody tr th {\n",
       "        vertical-align: top;\n",
       "    }\n",
       "\n",
       "    .dataframe thead th {\n",
       "        text-align: right;\n",
       "    }\n",
       "</style>\n",
       "<table border=\"1\" class=\"dataframe\">\n",
       "  <thead>\n",
       "    <tr style=\"text-align: right;\">\n",
       "      <th></th>\n",
       "      <th>Quantity</th>\n",
       "      <th>Tax 5%</th>\n",
       "      <th>Total</th>\n",
       "      <th>Date</th>\n",
       "      <th>Time</th>\n",
       "      <th>Payment</th>\n",
       "    </tr>\n",
       "  </thead>\n",
       "  <tbody>\n",
       "    <tr>\n",
       "      <th>0</th>\n",
       "      <td>7</td>\n",
       "      <td>26.1415</td>\n",
       "      <td>548.9715</td>\n",
       "      <td>1/5/2019</td>\n",
       "      <td>13:08</td>\n",
       "      <td>Ewallet</td>\n",
       "    </tr>\n",
       "    <tr>\n",
       "      <th>1</th>\n",
       "      <td>5</td>\n",
       "      <td>3.8200</td>\n",
       "      <td>80.2200</td>\n",
       "      <td>3/8/2019</td>\n",
       "      <td>10:29</td>\n",
       "      <td>Cash</td>\n",
       "    </tr>\n",
       "    <tr>\n",
       "      <th>2</th>\n",
       "      <td>7</td>\n",
       "      <td>16.2155</td>\n",
       "      <td>340.5255</td>\n",
       "      <td>3/3/2019</td>\n",
       "      <td>13:23</td>\n",
       "      <td>Credit card</td>\n",
       "    </tr>\n",
       "    <tr>\n",
       "      <th>3</th>\n",
       "      <td>8</td>\n",
       "      <td>23.2880</td>\n",
       "      <td>489.0480</td>\n",
       "      <td>1/27/2019</td>\n",
       "      <td>20:33</td>\n",
       "      <td>Ewallet</td>\n",
       "    </tr>\n",
       "    <tr>\n",
       "      <th>4</th>\n",
       "      <td>7</td>\n",
       "      <td>30.2085</td>\n",
       "      <td>634.3785</td>\n",
       "      <td>2/8/2019</td>\n",
       "      <td>10:37</td>\n",
       "      <td>Ewallet</td>\n",
       "    </tr>\n",
       "  </tbody>\n",
       "</table>\n",
       "</div>"
      ],
      "text/plain": [
       "   Quantity   Tax 5%     Total       Date   Time      Payment\n",
       "0         7  26.1415  548.9715   1/5/2019  13:08      Ewallet\n",
       "1         5   3.8200   80.2200   3/8/2019  10:29         Cash\n",
       "2         7  16.2155  340.5255   3/3/2019  13:23  Credit card\n",
       "3         8  23.2880  489.0480  1/27/2019  20:33      Ewallet\n",
       "4         7  30.2085  634.3785   2/8/2019  10:37      Ewallet"
      ]
     },
     "execution_count": 5,
     "metadata": {},
     "output_type": "execute_result"
    }
   ],
   "source": [
    "child = sm[['Quantity', 'Tax 5%', 'Total', 'Date', 'Time', 'Payment']]\n",
    "child.head()"
   ]
  },
  {
   "cell_type": "code",
   "execution_count": 6,
   "metadata": {
    "ExecuteTime": {
     "end_time": "2020-07-13T17:54:24.058645Z",
     "start_time": "2020-07-13T17:54:23.369158Z"
    }
   },
   "outputs": [],
   "source": [
    "from sklearn.preprocessing import LabelEncoder\n",
    "\n",
    "t_parent = []\n",
    "for feature in ['Branch', 'City', 'Customer type', 'Gender', 'Product line']:\n",
    "    le = LabelEncoder()\n",
    "    t_parent.append(le.fit_transform(parent[feature]))\n",
    "\n",
    "t_parent = np.stack([t_parent], axis=-1).reshape((1000, 5))\n",
    "\n",
    "X = np.append(t_parent, parent[['Unit price']], axis=1).astype(np.float32)"
   ]
  },
  {
   "cell_type": "code",
   "execution_count": 7,
   "metadata": {
    "ExecuteTime": {
     "end_time": "2020-07-13T17:54:24.636113Z",
     "start_time": "2020-07-13T17:54:24.542198Z"
    }
   },
   "outputs": [],
   "source": [
    "le = LabelEncoder()\n",
    "t_child = le.fit_transform(child['Payment'])[:,np.newaxis]\n",
    "\n",
    "child_month = pd.to_datetime(child['Date']).dt.month\n",
    "child_day = pd.to_datetime(child['Date']).dt.day\n",
    "child_hour = pd.to_datetime(child['Time']).dt.hour\n",
    "child_dt = pd.concat([child_month, child_day, child_hour], axis=1).values\n",
    "\n",
    "y = np.concatenate([child[['Quantity', 'Tax 5%', 'Total']], t_child, child_dt], axis=1).astype(np.float32)"
   ]
  },
  {
   "cell_type": "markdown",
   "metadata": {},
   "source": [
    "# Model Evaluation"
   ]
  },
  {
   "cell_type": "code",
   "execution_count": 61,
   "metadata": {
    "ExecuteTime": {
     "end_time": "2020-07-13T18:42:19.213448Z",
     "start_time": "2020-07-13T18:42:19.206404Z"
    }
   },
   "outputs": [],
   "source": [
    "from model.gmm import GMM\n",
    "from model.cgan import CGAN\n",
    "from model.bayesnn import BayesNN\n",
    "from model.mcdropout import MCDropout\n",
    "from model.deepensemble import DeepEnsemble\n",
    "from hyperopt.hyperopt import (hyperopt,\n",
    "                               hyperopt_log,\n",
    "                               hyperparam_plot,\n",
    "                               performance_plot)\n",
    "from visualisation.visualisation import (plot_surface,\n",
    "                                         plot_prob_fixed,\n",
    "                                         plot_violin,\n",
    "                                         plot_prob_violin,\n",
    "                                         plot_binned_violin)\n",
    "from data.synthetic import plot_data"
   ]
  },
  {
   "cell_type": "markdown",
   "metadata": {},
   "source": [
    "# Model: Gaussian Mixture Density Network"
   ]
  },
  {
   "cell_type": "code",
   "execution_count": null,
   "metadata": {
    "ExecuteTime": {
     "start_time": "2020-07-13T23:52:00.995Z"
    },
    "scrolled": false
   },
   "outputs": [
    {
     "name": "stderr",
     "output_type": "stream",
     "text": [
      "[INFO 07-14 07:52:01] ax.modelbridge.dispatch_utils: Using Bayesian Optimization generation strategy: GenerationStrategy(name='Sobol+GPEI', steps=[Sobol for 5 trials, GPEI for subsequent trials]). Iterations after 5 will take longer to generate due to  model-fitting.\n",
      "[INFO 07-14 07:52:01] ax.service.managed_loop: Started full optimization with 30 steps.\n",
      "[INFO 07-14 07:52:01] ax.service.managed_loop: Running optimization trial 1...\n",
      "[INFO 07-14 07:53:28] ax.service.managed_loop: Running optimization trial 2...\n",
      "[INFO 07-14 07:55:00] ax.service.managed_loop: Running optimization trial 3...\n",
      "[INFO 07-14 07:57:22] ax.service.managed_loop: Running optimization trial 4...\n",
      "[INFO 07-14 08:01:29] ax.service.managed_loop: Running optimization trial 5...\n",
      "[INFO 07-14 08:06:19] ax.service.managed_loop: Running optimization trial 6...\n",
      "[INFO 07-14 08:08:46] ax.service.managed_loop: Running optimization trial 7...\n",
      "[INFO 07-14 08:12:15] ax.service.managed_loop: Running optimization trial 8...\n",
      "[INFO 07-14 08:15:01] ax.service.managed_loop: Running optimization trial 9...\n",
      "[INFO 07-14 08:17:04] ax.service.managed_loop: Running optimization trial 10...\n",
      "[INFO 07-14 08:19:48] ax.service.managed_loop: Running optimization trial 11...\n",
      "[INFO 07-14 08:22:05] ax.service.managed_loop: Running optimization trial 12...\n",
      "[INFO 07-14 08:25:07] ax.service.managed_loop: Running optimization trial 13...\n",
      "[INFO 07-14 08:27:32] ax.service.managed_loop: Running optimization trial 14...\n",
      "[INFO 07-14 08:30:26] ax.service.managed_loop: Running optimization trial 15...\n",
      "[INFO 07-14 08:33:28] ax.service.managed_loop: Running optimization trial 16...\n",
      "[INFO 07-14 08:35:56] ax.service.managed_loop: Running optimization trial 17...\n",
      "[INFO 07-14 08:38:19] ax.service.managed_loop: Running optimization trial 18...\n",
      "[INFO 07-14 08:40:47] ax.service.managed_loop: Running optimization trial 19...\n",
      "[INFO 07-14 08:43:51] ax.service.managed_loop: Running optimization trial 20...\n",
      "[INFO 07-14 08:46:13] ax.service.managed_loop: Running optimization trial 21...\n",
      "[INFO 07-14 08:48:32] ax.service.managed_loop: Running optimization trial 22...\n",
      "[INFO 07-14 08:50:53] ax.service.managed_loop: Running optimization trial 23...\n",
      "[INFO 07-14 08:53:13] ax.service.managed_loop: Running optimization trial 24...\n",
      "[INFO 07-14 08:55:26] ax.service.managed_loop: Running optimization trial 25...\n",
      "[INFO 07-14 08:57:48] ax.service.managed_loop: Running optimization trial 26...\n",
      "[INFO 07-14 09:00:10] ax.service.managed_loop: Running optimization trial 27...\n",
      "[INFO 07-14 09:03:18] ax.service.managed_loop: Running optimization trial 28...\n",
      "[INFO 07-14 09:05:39] ax.service.managed_loop: Running optimization trial 29...\n",
      "[INFO 07-14 09:07:59] ax.service.managed_loop: Running optimization trial 30...\n"
     ]
    }
   ],
   "source": [
    "params = {\n",
    "    \"x_features\": 6,\n",
    "    \"y_features\": 7,\n",
    "    \"epochs\": 20000,\n",
    "}\n",
    "opt_params = {\n",
    "    'n_components': [1,100],\n",
    "    'n_hidden': [1,100],\n",
    "}\n",
    "\n",
    "gmm, best_params, best_vals, experiment, exp_model = hyperopt(\n",
    "    GMM,\n",
    "    params,\n",
    "    opt_params,\n",
    "    X, y,\n",
    "    trials=30,\n",
    "    val_split=0.8)\n",
    "\n",
    "y_hat = gmm.predict(X)\n",
    "plot_data(X[:,4:6], y[:,:2])\n",
    "plot_data(X[:,4:6], y_hat[:,:2])"
   ]
  },
  {
   "cell_type": "code",
   "execution_count": null,
   "metadata": {
    "ExecuteTime": {
     "start_time": "2020-07-13T23:52:01.573Z"
    }
   },
   "outputs": [],
   "source": [
    "print(f\"n_components: {gmm.n_components}\")\n",
    "print(f\"n_hidden: {gmm.n_hidden}\")\n",
    "display(hyperopt_log(experiment))\n",
    "hyperparam_plot(exp_model, \"n_components\", \"n_hidden\")"
   ]
  },
  {
   "cell_type": "code",
   "execution_count": null,
   "metadata": {
    "ExecuteTime": {
     "start_time": "2020-07-13T23:52:01.947Z"
    }
   },
   "outputs": [],
   "source": [
    "from performance.performance import prob_overlap, kl, js\n",
    "try:\n",
    "    p, q = prob_overlap(y, y_hat, bins=5)\n",
    "    print(\"fKL:\", kl(p, q))\n",
    "    print(\"rKL:\", kl(q, p))\n",
    "    print(\"JS:\", js(p, q))\n",
    "except Exception as e:\n",
    "    print(f\"Exception: {e}\")\n",
    "    pass"
   ]
  },
  {
   "cell_type": "markdown",
   "metadata": {},
   "source": [
    "# Model: Conditional Generative Adversarial Network"
   ]
  },
  {
   "cell_type": "code",
   "execution_count": null,
   "metadata": {
    "ExecuteTime": {
     "start_time": "2020-07-13T23:52:02.459Z"
    }
   },
   "outputs": [],
   "source": [
    "params = {\n",
    "    \"x_features\": 6,\n",
    "    \"y_features\": 7,\n",
    "    \"epochs\": 20000,\n",
    "}\n",
    "opt_params = {\n",
    "    'latent_dim': [1,100],\n",
    "    'g_hidden': [1,100],\n",
    "    'd_hidden': [1,100],\n",
    "    'label_smooth': [0.0,1.0],\n",
    "    'd_dropout': [0.0, 0.9],\n",
    "    'gp_weight': [0.0, 1.0],\n",
    "    'ds_weight': [0.0, 1.0],\n",
    "}\n",
    "\n",
    "cgan, best_params, best_vals, experiment, exp_model = hyperopt(\n",
    "    CGAN,\n",
    "    params,\n",
    "    opt_params,\n",
    "    X, y,\n",
    "    trials=30,\n",
    "    val_split=0.8)\n",
    "\n",
    "y_hat = cgan.predict(X)\n",
    "plot_data(X[:,4:6], y[:,:2])\n",
    "plot_data(X[:,4:6], y_hat[:,:2])"
   ]
  },
  {
   "cell_type": "code",
   "execution_count": null,
   "metadata": {
    "ExecuteTime": {
     "start_time": "2020-07-13T23:52:03.516Z"
    }
   },
   "outputs": [],
   "source": [
    "print(f\"latent_dim: {cgan.latent_dim}\")\n",
    "print(f\"g_hidden: {cgan.g_hidden}\")\n",
    "print(f\"d_hidden: {cgan.d_hidden}\")\n",
    "print(f\"label_smooth: {cgan.label_smooth}\")\n",
    "print(f\"d_dropout: {cgan.d_dropout}\")\n",
    "print(f\"gp_weight: {cgan.gp_weight}\")\n",
    "print(f\"ds_weight: {cgan.ds_weight}\")\n",
    "\n",
    "display(hyperopt_log(experiment))\n",
    "hyperparam_plot(exp_model, \"g_hidden\", \"d_hidden\")\n",
    "hyperparam_plot(exp_model, \"label_smooth\", \"d_dropout\")\n",
    "hyperparam_plot(exp_model, \"gp_weight\", \"ds_weight\")"
   ]
  },
  {
   "cell_type": "code",
   "execution_count": null,
   "metadata": {
    "ExecuteTime": {
     "start_time": "2020-07-13T23:52:03.884Z"
    }
   },
   "outputs": [],
   "source": [
    "from performance.performance import prob_overlap, kl, js\n",
    "try:\n",
    "    p, q = prob_overlap(y, y_hat, bins=5)\n",
    "    print(\"fKL:\", kl(p, q))\n",
    "    print(\"rKL:\", kl(q, p))\n",
    "    print(\"JS:\", js(p, q))\n",
    "except Exception as e:\n",
    "    print(f\"Exception: {e}\")\n",
    "    pass"
   ]
  },
  {
   "cell_type": "markdown",
   "metadata": {},
   "source": [
    "# Bayesian Neural Network"
   ]
  },
  {
   "cell_type": "code",
   "execution_count": null,
   "metadata": {
    "ExecuteTime": {
     "start_time": "2020-07-13T23:52:04.348Z"
    }
   },
   "outputs": [],
   "source": [
    "from model.bayesnn import BayesNN\n",
    "from hyperopt.hyperopt import hyperopt\n",
    "from hyperopt.hyperopt import hyperopt_log, hyperparam_plot, performance_plot\n",
    "\n",
    "params = {\n",
    "    \"x_features\": 6,\n",
    "    \"y_features\": 7,\n",
    "    \"epochs\": 2000,\n",
    "}\n",
    "opt_params = {\n",
    "    'n_hidden': [1,100],\n",
    "    'n_layers': [1,10],\n",
    "}\n",
    "\n",
    "bayesnn, best_params, best_vals, experiment, exp_model = hyperopt(\n",
    "    BayesNN,\n",
    "    params,\n",
    "    opt_params,\n",
    "    X, y,\n",
    "    trials=30,\n",
    "    val_split=0.8)\n",
    "\n",
    "y_hat = bayesnn.predict(X)\n",
    "plot_data(X[:,4:6], y[:,:2])\n",
    "plot_data(X[:,4:6], y_hat[:,:2])"
   ]
  },
  {
   "cell_type": "code",
   "execution_count": null,
   "metadata": {
    "ExecuteTime": {
     "start_time": "2020-07-13T23:52:04.907Z"
    }
   },
   "outputs": [],
   "source": [
    "print(f\"n_hidden: {bayesnn.n_hidden}\")\n",
    "print(f\"n_layers: {bayesnn.n_layers}\")\n",
    "\n",
    "display(hyperopt_log(experiment))\n",
    "hyperparam_plot(exp_model, \"n_hidden\", \"n_layers\")"
   ]
  },
  {
   "cell_type": "code",
   "execution_count": null,
   "metadata": {
    "ExecuteTime": {
     "start_time": "2020-07-13T23:52:05.140Z"
    }
   },
   "outputs": [],
   "source": [
    "from performance.performance import prob_overlap, kl, js\n",
    "try:\n",
    "    p, q = prob_overlap(y, y_hat, bins=5)\n",
    "    print(\"fKL:\", kl(p, q))\n",
    "    print(\"rKL:\", kl(q, p))\n",
    "    print(\"JS:\", js(p, q))\n",
    "except Exception as e:\n",
    "    print(f\"Exception: {e}\")\n",
    "    pass"
   ]
  },
  {
   "cell_type": "markdown",
   "metadata": {},
   "source": [
    "# Monte Carlo Dropout"
   ]
  },
  {
   "cell_type": "code",
   "execution_count": null,
   "metadata": {
    "ExecuteTime": {
     "start_time": "2020-07-13T23:52:06.068Z"
    }
   },
   "outputs": [],
   "source": [
    "from model.mcdropout import MCDropout\n",
    "from hyperopt.hyperopt import hyperopt\n",
    "from hyperopt.hyperopt import hyperopt_log, hyperparam_plot, performance_plot\n",
    "\n",
    "params = {\n",
    "    \"x_features\": 6,\n",
    "    \"y_features\": 7,\n",
    "    \"epochs\": 2000,\n",
    "}\n",
    "opt_params = {\n",
    "    'n_hidden': [1,100],\n",
    "    'dropout': [0.1,0.9],\n",
    "}\n",
    "\n",
    "mcdropout, best_params, best_vals, experiment, exp_model = hyperopt(\n",
    "    MCDropout,\n",
    "    params,\n",
    "    opt_params,\n",
    "    X, y,\n",
    "    trials=30,\n",
    "    val_split=0.8)\n",
    "\n",
    "y_hat, y_std = mcdropout.predict(X, return_std=True)\n",
    "y_hat = mcdropout.predict(X)\n",
    "plot_data(X[:,4:6], y[:,:2])\n",
    "plot_data(X[:,4:6], y_hat[:,:2])"
   ]
  },
  {
   "cell_type": "code",
   "execution_count": null,
   "metadata": {
    "ExecuteTime": {
     "start_time": "2020-07-13T23:52:06.611Z"
    }
   },
   "outputs": [],
   "source": [
    "print(f\"n_hidden: {mcdropout.n_hidden}\")\n",
    "print(f\"dropout: {mcdropout.dropout}\")\n",
    "\n",
    "display(hyperopt_log(experiment))\n",
    "hyperparam_plot(exp_model, \"n_hidden\", \"dropout\")"
   ]
  },
  {
   "cell_type": "code",
   "execution_count": null,
   "metadata": {
    "ExecuteTime": {
     "start_time": "2020-07-13T23:52:06.860Z"
    }
   },
   "outputs": [],
   "source": [
    "from performance.performance import prob_overlap, kl, js\n",
    "try:\n",
    "    p, q = prob_overlap(y, y_hat, bins=5)\n",
    "    print(\"fKL:\", kl(p, q))\n",
    "    print(\"rKL:\", kl(q, p))\n",
    "    print(\"JS:\", js(p, q))\n",
    "except Exception as e:\n",
    "    print(f\"Exception: {e}\")\n",
    "    pass"
   ]
  },
  {
   "cell_type": "markdown",
   "metadata": {},
   "source": [
    "# Deep Ensemble"
   ]
  },
  {
   "cell_type": "code",
   "execution_count": null,
   "metadata": {
    "ExecuteTime": {
     "start_time": "2020-07-13T23:52:07.372Z"
    }
   },
   "outputs": [],
   "source": [
    "from model.deepensemble import DeepEnsemble\n",
    "from hyperopt.hyperopt import hyperopt\n",
    "from hyperopt.hyperopt import hyperopt_log, hyperparam_plot, performance_plot\n",
    "\n",
    "params = {\n",
    "    \"x_features\": 6,\n",
    "    \"y_features\": 7,\n",
    "    \"epochs\": 2000,\n",
    "}\n",
    "opt_params = {\n",
    "    'n_hidden': [1,100],\n",
    "    'dropout': [0.1,0.5],\n",
    "}\n",
    "\n",
    "deepensemble, best_params, best_vals, experiment, exp_model = hyperopt(\n",
    "    DeepEnsemble,\n",
    "    params,\n",
    "    opt_params,\n",
    "    X, y,\n",
    "    trials=30,\n",
    "    val_split=0.8)\n",
    "\n",
    "y_hat, y_std = deepensemble.predict(X, return_std=True)\n",
    "plot_data(X[:,4:6], y[:,:2])\n",
    "plot_data(X[:,4:6], y_hat[:,:2])"
   ]
  },
  {
   "cell_type": "code",
   "execution_count": null,
   "metadata": {
    "ExecuteTime": {
     "start_time": "2020-07-13T23:52:08.739Z"
    }
   },
   "outputs": [],
   "source": [
    "print(f\"n_hidden: {deepensemble.n_hidden}\")\n",
    "print(f\"dropout: {deepensemble.dropout}\")\n",
    "\n",
    "display(hyperopt_log(experiment))\n",
    "hyperparam_plot(exp_model, \"n_hidden\", \"dropout\")"
   ]
  },
  {
   "cell_type": "code",
   "execution_count": null,
   "metadata": {
    "ExecuteTime": {
     "start_time": "2020-07-13T23:52:09.314Z"
    }
   },
   "outputs": [],
   "source": [
    "from performance.performance import prob_overlap, kl, js\n",
    "try:\n",
    "    p, q = prob_overlap(y, y_hat, bins=5)\n",
    "    print(\"fKL:\", kl(p, q))\n",
    "    print(\"rKL:\", kl(q, p))\n",
    "    print(\"JS:\", js(p, q))\n",
    "except Exception as e:\n",
    "    print(f\"Exception: {e}\")\n",
    "    pass"
   ]
  }
 ],
 "metadata": {
  "kernelspec": {
   "display_name": "Python (grab)",
   "language": "python",
   "name": "grab"
  },
  "language_info": {
   "codemirror_mode": {
    "name": "ipython",
    "version": 3
   },
   "file_extension": ".py",
   "mimetype": "text/x-python",
   "name": "python",
   "nbconvert_exporter": "python",
   "pygments_lexer": "ipython3",
   "version": "3.7.7"
  },
  "latex_envs": {
   "LaTeX_envs_menu_present": true,
   "autoclose": false,
   "autocomplete": true,
   "bibliofile": "biblio.bib",
   "cite_by": "apalike",
   "current_citInitial": 1,
   "eqLabelWithNumbers": true,
   "eqNumInitial": 1,
   "hotkeys": {
    "equation": "Ctrl-E",
    "itemize": "Ctrl-I"
   },
   "labels_anchors": false,
   "latex_user_defs": false,
   "report_style_numbering": false,
   "user_envs_cfg": false
  },
  "toc": {
   "base_numbering": 1,
   "nav_menu": {},
   "number_sections": true,
   "sideBar": true,
   "skip_h1_title": false,
   "title_cell": "Table of Contents",
   "title_sidebar": "Contents",
   "toc_cell": false,
   "toc_position": {},
   "toc_section_display": true,
   "toc_window_display": false
  }
 },
 "nbformat": 4,
 "nbformat_minor": 4
}
