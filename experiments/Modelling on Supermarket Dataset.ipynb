{
 "cells": [
  {
   "cell_type": "markdown",
   "metadata": {},
   "source": [
    "# Supermarket Sales Dataset\n",
    "\n",
    "Description:\n",
    "* 1000 rows, 2 parent and 1 child features\n",
    "\n",
    "Features:\n",
    "* Branch, City, Customer type, Gender, Product line, Unit price, Month, Date, Time, Quantity, Tax 5%, Total, Payment\n",
    "\n",
    "Selected parent features:\n",
    "* Branch, Time\n",
    "\n",
    "Selected child features:\n",
    "* Total\n",
    "\n",
    "Source: https://www.kaggle.com/aungpyaeap/supermarket-sales"
   ]
  },
  {
   "cell_type": "code",
   "execution_count": 1,
   "metadata": {
    "ExecuteTime": {
     "end_time": "2020-07-13T17:54:21.828021Z",
     "start_time": "2020-07-13T17:54:21.823038Z"
    }
   },
   "outputs": [],
   "source": [
    "import sys\n",
    "sys.path.append(\"C:/Users/notes/grab\")"
   ]
  },
  {
   "cell_type": "code",
   "execution_count": 2,
   "metadata": {
    "ExecuteTime": {
     "end_time": "2020-07-13T17:54:23.194630Z",
     "start_time": "2020-07-13T17:54:22.213068Z"
    }
   },
   "outputs": [],
   "source": [
    "import numpy as np\n",
    "import pandas as pd\n",
    "import matplotlib.pyplot as plt"
   ]
  },
  {
   "cell_type": "code",
   "execution_count": 3,
   "metadata": {
    "ExecuteTime": {
     "end_time": "2020-07-13T17:54:23.211841Z",
     "start_time": "2020-07-13T17:54:23.196629Z"
    }
   },
   "outputs": [],
   "source": [
    "sm = pd.read_csv(\"../data/supermarket.csv\")"
   ]
  },
  {
   "cell_type": "code",
   "execution_count": 116,
   "metadata": {
    "ExecuteTime": {
     "end_time": "2020-07-14T06:07:23.589635Z",
     "start_time": "2020-07-14T06:07:23.556637Z"
    }
   },
   "outputs": [
    {
     "data": {
      "text/html": [
       "<div>\n",
       "<style scoped>\n",
       "    .dataframe tbody tr th:only-of-type {\n",
       "        vertical-align: middle;\n",
       "    }\n",
       "\n",
       "    .dataframe tbody tr th {\n",
       "        vertical-align: top;\n",
       "    }\n",
       "\n",
       "    .dataframe thead th {\n",
       "        text-align: right;\n",
       "    }\n",
       "</style>\n",
       "<table border=\"1\" class=\"dataframe\">\n",
       "  <thead>\n",
       "    <tr style=\"text-align: right;\">\n",
       "      <th></th>\n",
       "      <th>Invoice ID</th>\n",
       "      <th>Branch</th>\n",
       "      <th>City</th>\n",
       "      <th>Customer type</th>\n",
       "      <th>Gender</th>\n",
       "      <th>Product line</th>\n",
       "      <th>Unit price</th>\n",
       "      <th>Quantity</th>\n",
       "      <th>Tax 5%</th>\n",
       "      <th>Total</th>\n",
       "      <th>Date</th>\n",
       "      <th>Time</th>\n",
       "      <th>Payment</th>\n",
       "      <th>cogs</th>\n",
       "      <th>gross margin percentage</th>\n",
       "      <th>gross income</th>\n",
       "      <th>Rating</th>\n",
       "    </tr>\n",
       "  </thead>\n",
       "  <tbody>\n",
       "    <tr>\n",
       "      <th>0</th>\n",
       "      <td>750-67-8428</td>\n",
       "      <td>A</td>\n",
       "      <td>Yangon</td>\n",
       "      <td>Member</td>\n",
       "      <td>Female</td>\n",
       "      <td>Health and beauty</td>\n",
       "      <td>74.69</td>\n",
       "      <td>7</td>\n",
       "      <td>26.1415</td>\n",
       "      <td>548.9715</td>\n",
       "      <td>1/5/2019</td>\n",
       "      <td>13:08</td>\n",
       "      <td>Ewallet</td>\n",
       "      <td>522.83</td>\n",
       "      <td>4.761905</td>\n",
       "      <td>26.1415</td>\n",
       "      <td>9.1</td>\n",
       "    </tr>\n",
       "    <tr>\n",
       "      <th>1</th>\n",
       "      <td>226-31-3081</td>\n",
       "      <td>C</td>\n",
       "      <td>Naypyitaw</td>\n",
       "      <td>Normal</td>\n",
       "      <td>Female</td>\n",
       "      <td>Electronic accessories</td>\n",
       "      <td>15.28</td>\n",
       "      <td>5</td>\n",
       "      <td>3.8200</td>\n",
       "      <td>80.2200</td>\n",
       "      <td>3/8/2019</td>\n",
       "      <td>10:29</td>\n",
       "      <td>Cash</td>\n",
       "      <td>76.40</td>\n",
       "      <td>4.761905</td>\n",
       "      <td>3.8200</td>\n",
       "      <td>9.6</td>\n",
       "    </tr>\n",
       "    <tr>\n",
       "      <th>2</th>\n",
       "      <td>631-41-3108</td>\n",
       "      <td>A</td>\n",
       "      <td>Yangon</td>\n",
       "      <td>Normal</td>\n",
       "      <td>Male</td>\n",
       "      <td>Home and lifestyle</td>\n",
       "      <td>46.33</td>\n",
       "      <td>7</td>\n",
       "      <td>16.2155</td>\n",
       "      <td>340.5255</td>\n",
       "      <td>3/3/2019</td>\n",
       "      <td>13:23</td>\n",
       "      <td>Credit card</td>\n",
       "      <td>324.31</td>\n",
       "      <td>4.761905</td>\n",
       "      <td>16.2155</td>\n",
       "      <td>7.4</td>\n",
       "    </tr>\n",
       "    <tr>\n",
       "      <th>3</th>\n",
       "      <td>123-19-1176</td>\n",
       "      <td>A</td>\n",
       "      <td>Yangon</td>\n",
       "      <td>Member</td>\n",
       "      <td>Male</td>\n",
       "      <td>Health and beauty</td>\n",
       "      <td>58.22</td>\n",
       "      <td>8</td>\n",
       "      <td>23.2880</td>\n",
       "      <td>489.0480</td>\n",
       "      <td>1/27/2019</td>\n",
       "      <td>20:33</td>\n",
       "      <td>Ewallet</td>\n",
       "      <td>465.76</td>\n",
       "      <td>4.761905</td>\n",
       "      <td>23.2880</td>\n",
       "      <td>8.4</td>\n",
       "    </tr>\n",
       "    <tr>\n",
       "      <th>4</th>\n",
       "      <td>373-73-7910</td>\n",
       "      <td>A</td>\n",
       "      <td>Yangon</td>\n",
       "      <td>Normal</td>\n",
       "      <td>Male</td>\n",
       "      <td>Sports and travel</td>\n",
       "      <td>86.31</td>\n",
       "      <td>7</td>\n",
       "      <td>30.2085</td>\n",
       "      <td>634.3785</td>\n",
       "      <td>2/8/2019</td>\n",
       "      <td>10:37</td>\n",
       "      <td>Ewallet</td>\n",
       "      <td>604.17</td>\n",
       "      <td>4.761905</td>\n",
       "      <td>30.2085</td>\n",
       "      <td>5.3</td>\n",
       "    </tr>\n",
       "  </tbody>\n",
       "</table>\n",
       "</div>"
      ],
      "text/plain": [
       "    Invoice ID Branch       City Customer type  Gender  \\\n",
       "0  750-67-8428      A     Yangon        Member  Female   \n",
       "1  226-31-3081      C  Naypyitaw        Normal  Female   \n",
       "2  631-41-3108      A     Yangon        Normal    Male   \n",
       "3  123-19-1176      A     Yangon        Member    Male   \n",
       "4  373-73-7910      A     Yangon        Normal    Male   \n",
       "\n",
       "             Product line  Unit price  Quantity   Tax 5%     Total       Date  \\\n",
       "0       Health and beauty       74.69         7  26.1415  548.9715   1/5/2019   \n",
       "1  Electronic accessories       15.28         5   3.8200   80.2200   3/8/2019   \n",
       "2      Home and lifestyle       46.33         7  16.2155  340.5255   3/3/2019   \n",
       "3       Health and beauty       58.22         8  23.2880  489.0480  1/27/2019   \n",
       "4       Sports and travel       86.31         7  30.2085  634.3785   2/8/2019   \n",
       "\n",
       "    Time      Payment    cogs  gross margin percentage  gross income  Rating  \n",
       "0  13:08      Ewallet  522.83                 4.761905       26.1415     9.1  \n",
       "1  10:29         Cash   76.40                 4.761905        3.8200     9.6  \n",
       "2  13:23  Credit card  324.31                 4.761905       16.2155     7.4  \n",
       "3  20:33      Ewallet  465.76                 4.761905       23.2880     8.4  \n",
       "4  10:37      Ewallet  604.17                 4.761905       30.2085     5.3  "
      ]
     },
     "execution_count": 116,
     "metadata": {},
     "output_type": "execute_result"
    }
   ],
   "source": [
    "sm.head()"
   ]
  },
  {
   "cell_type": "code",
   "execution_count": 117,
   "metadata": {
    "ExecuteTime": {
     "end_time": "2020-07-14T06:09:15.235699Z",
     "start_time": "2020-07-14T06:09:15.220699Z"
    }
   },
   "outputs": [
    {
     "data": {
      "text/html": [
       "<div>\n",
       "<style scoped>\n",
       "    .dataframe tbody tr th:only-of-type {\n",
       "        vertical-align: middle;\n",
       "    }\n",
       "\n",
       "    .dataframe tbody tr th {\n",
       "        vertical-align: top;\n",
       "    }\n",
       "\n",
       "    .dataframe thead th {\n",
       "        text-align: right;\n",
       "    }\n",
       "</style>\n",
       "<table border=\"1\" class=\"dataframe\">\n",
       "  <thead>\n",
       "    <tr style=\"text-align: right;\">\n",
       "      <th></th>\n",
       "      <th>Branch</th>\n",
       "      <th>Time</th>\n",
       "    </tr>\n",
       "  </thead>\n",
       "  <tbody>\n",
       "    <tr>\n",
       "      <th>0</th>\n",
       "      <td>A</td>\n",
       "      <td>13:08</td>\n",
       "    </tr>\n",
       "    <tr>\n",
       "      <th>1</th>\n",
       "      <td>C</td>\n",
       "      <td>10:29</td>\n",
       "    </tr>\n",
       "    <tr>\n",
       "      <th>2</th>\n",
       "      <td>A</td>\n",
       "      <td>13:23</td>\n",
       "    </tr>\n",
       "    <tr>\n",
       "      <th>3</th>\n",
       "      <td>A</td>\n",
       "      <td>20:33</td>\n",
       "    </tr>\n",
       "    <tr>\n",
       "      <th>4</th>\n",
       "      <td>A</td>\n",
       "      <td>10:37</td>\n",
       "    </tr>\n",
       "  </tbody>\n",
       "</table>\n",
       "</div>"
      ],
      "text/plain": [
       "  Branch   Time\n",
       "0      A  13:08\n",
       "1      C  10:29\n",
       "2      A  13:23\n",
       "3      A  20:33\n",
       "4      A  10:37"
      ]
     },
     "execution_count": 117,
     "metadata": {},
     "output_type": "execute_result"
    }
   ],
   "source": [
    "parent = sm[['Branch', 'Time']]\n",
    "parent.head()"
   ]
  },
  {
   "cell_type": "code",
   "execution_count": 118,
   "metadata": {
    "ExecuteTime": {
     "end_time": "2020-07-14T06:09:17.930699Z",
     "start_time": "2020-07-14T06:09:17.920698Z"
    }
   },
   "outputs": [
    {
     "data": {
      "text/html": [
       "<div>\n",
       "<style scoped>\n",
       "    .dataframe tbody tr th:only-of-type {\n",
       "        vertical-align: middle;\n",
       "    }\n",
       "\n",
       "    .dataframe tbody tr th {\n",
       "        vertical-align: top;\n",
       "    }\n",
       "\n",
       "    .dataframe thead th {\n",
       "        text-align: right;\n",
       "    }\n",
       "</style>\n",
       "<table border=\"1\" class=\"dataframe\">\n",
       "  <thead>\n",
       "    <tr style=\"text-align: right;\">\n",
       "      <th></th>\n",
       "      <th>Total</th>\n",
       "    </tr>\n",
       "  </thead>\n",
       "  <tbody>\n",
       "    <tr>\n",
       "      <th>0</th>\n",
       "      <td>548.9715</td>\n",
       "    </tr>\n",
       "    <tr>\n",
       "      <th>1</th>\n",
       "      <td>80.2200</td>\n",
       "    </tr>\n",
       "    <tr>\n",
       "      <th>2</th>\n",
       "      <td>340.5255</td>\n",
       "    </tr>\n",
       "    <tr>\n",
       "      <th>3</th>\n",
       "      <td>489.0480</td>\n",
       "    </tr>\n",
       "    <tr>\n",
       "      <th>4</th>\n",
       "      <td>634.3785</td>\n",
       "    </tr>\n",
       "  </tbody>\n",
       "</table>\n",
       "</div>"
      ],
      "text/plain": [
       "      Total\n",
       "0  548.9715\n",
       "1   80.2200\n",
       "2  340.5255\n",
       "3  489.0480\n",
       "4  634.3785"
      ]
     },
     "execution_count": 118,
     "metadata": {},
     "output_type": "execute_result"
    }
   ],
   "source": [
    "child = sm[['Total']]\n",
    "child.head()"
   ]
  },
  {
   "cell_type": "code",
   "execution_count": 126,
   "metadata": {
    "ExecuteTime": {
     "end_time": "2020-07-14T06:10:49.119698Z",
     "start_time": "2020-07-14T06:10:48.908701Z"
    }
   },
   "outputs": [
    {
     "data": {
      "text/plain": [
       "((1000, 2), (1000, 1))"
      ]
     },
     "execution_count": 126,
     "metadata": {},
     "output_type": "execute_result"
    }
   ],
   "source": [
    "from sklearn.preprocessing import LabelEncoder\n",
    "\n",
    "le = LabelEncoder()\n",
    "t_branch = le.fit_transform(parent['Branch'])\n",
    "t_time = pd.to_datetime(parent['Time']).dt.hour * 60 + pd.to_datetime(parent['Time']).dt.minute\n",
    "\n",
    "X = np.append(t_branch[:,np.newaxis], t_time.values[:,np.newaxis], axis=1).astype(np.float32)\n",
    "y = child.values.astype(np.float32)\n",
    "\n",
    "X.shape, y.shape"
   ]
  },
  {
   "cell_type": "code",
   "execution_count": 128,
   "metadata": {
    "ExecuteTime": {
     "end_time": "2020-07-14T06:11:13.891698Z",
     "start_time": "2020-07-14T06:11:13.569697Z"
    }
   },
   "outputs": [
    {
     "data": {
      "image/png": "[encoded data removed]",
      "text/plain": [
       "<Figure size 576x396 with 1 Axes>"
      ]
     },
     "metadata": {},
     "output_type": "display_data"
    }
   ],
   "source": [
    "plot_data(X, y)"
   ]
  },
  {
   "cell_type": "code",
   "execution_count": 132,
   "metadata": {
    "ExecuteTime": {
     "end_time": "2020-07-14T06:13:42.540698Z",
     "start_time": "2020-07-14T06:13:42.257698Z"
    }
   },
   "outputs": [
    {
     "data": {
      "image/png": "[encoded data removed]",
      "text/plain": [
       "<Figure size 576x396 with 1 Axes>"
      ]
     },
     "metadata": {},
     "output_type": "display_data"
    }
   ],
   "source": [
    "plt.hist(y)\n",
    "plt.show()"
   ]
  },
  {
   "cell_type": "markdown",
   "metadata": {},
   "source": [
    "# Model Evaluation"
   ]
  },
  {
   "cell_type": "code",
   "execution_count": 135,
   "metadata": {
    "ExecuteTime": {
     "end_time": "2020-07-14T06:14:22.978700Z",
     "start_time": "2020-07-14T06:14:22.969698Z"
    }
   },
   "outputs": [],
   "source": [
    "from model.gmm import GMM\n",
    "from model.cgan import CGAN\n",
    "from model.bayesnn import BayesNN\n",
    "from model.mcdropout import MCDropout\n",
    "from model.deepensemble import DeepEnsemble\n",
    "from hyperopt.hyperopt import (hyperopt,\n",
    "                               hyperopt_log,\n",
    "                               hyperparam_plot,\n",
    "                               performance_plot)\n",
    "from visualisation.visualisation import (plot_surface,\n",
    "                                         plot_prob_fixed,\n",
    "                                         plot_violin,\n",
    "                                         plot_prob_violin,\n",
    "                                         plot_binned_violin)\n",
    "from data.synthetic import plot_data"
   ]
  },
  {
   "cell_type": "markdown",
   "metadata": {},
   "source": [
    "# Model: Gaussian Mixture Density Network"
   ]
  },
  {
   "cell_type": "code",
   "execution_count": null,
   "metadata": {
    "ExecuteTime": {
     "start_time": "2020-07-14T06:17:18.951Z"
    },
    "scrolled": false
   },
   "outputs": [
    {
     "name": "stderr",
     "output_type": "stream",
     "text": [
      "[INFO 07-14 14:17:18] ax.modelbridge.dispatch_utils: Using Bayesian Optimization generation strategy: GenerationStrategy(name='Sobol+GPEI', steps=[Sobol for 5 trials, GPEI for subsequent trials]). Iterations after 5 will take longer to generate due to  model-fitting.\n",
      "[INFO 07-14 14:17:18] ax.service.managed_loop: Started full optimization with 30 steps.\n",
      "[INFO 07-14 14:17:18] ax.service.managed_loop: Running optimization trial 1...\n",
      "[INFO 07-14 14:20:19] ax.service.managed_loop: Running optimization trial 2...\n",
      "[INFO 07-14 14:22:38] ax.service.managed_loop: Running optimization trial 3...\n",
      "[INFO 07-14 14:24:46] ax.service.managed_loop: Running optimization trial 4...\n",
      "[INFO 07-14 14:27:12] ax.service.managed_loop: Running optimization trial 5...\n",
      "[INFO 07-14 14:29:28] ax.service.managed_loop: Running optimization trial 6...\n",
      "[INFO 07-14 14:32:05] ax.service.managed_loop: Running optimization trial 7...\n",
      "[INFO 07-14 14:34:39] ax.service.managed_loop: Running optimization trial 8...\n",
      "[INFO 07-14 14:37:06] ax.service.managed_loop: Running optimization trial 9...\n",
      "[INFO 07-14 14:39:21] ax.service.managed_loop: Running optimization trial 10...\n",
      "[INFO 07-14 14:41:53] ax.service.managed_loop: Running optimization trial 11...\n",
      "[INFO 07-14 14:44:15] ax.service.managed_loop: Running optimization trial 12...\n",
      "[INFO 07-14 14:46:39] ax.service.managed_loop: Running optimization trial 13...\n",
      "[INFO 07-14 14:48:57] ax.service.managed_loop: Running optimization trial 14...\n",
      "[INFO 07-14 14:51:18] ax.service.managed_loop: Running optimization trial 15...\n",
      "[INFO 07-14 14:53:36] ax.service.managed_loop: Running optimization trial 16...\n",
      "[INFO 07-14 14:55:53] ax.service.managed_loop: Running optimization trial 17...\n",
      "[INFO 07-14 14:58:09] ax.service.managed_loop: Running optimization trial 18...\n",
      "[INFO 07-14 15:00:36] ax.service.managed_loop: Running optimization trial 19...\n",
      "[INFO 07-14 15:03:01] ax.service.managed_loop: Running optimization trial 20...\n",
      "[INFO 07-14 15:05:26] ax.service.managed_loop: Running optimization trial 21...\n"
     ]
    }
   ],
   "source": [
    "params = {\n",
    "    \"x_features\": 2,\n",
    "    \"y_features\": 1,\n",
    "    \"epochs\": 20000,\n",
    "}\n",
    "opt_params = {\n",
    "    'n_components': [1,100],\n",
    "    'n_hidden': [1,100],\n",
    "}\n",
    "\n",
    "gmm, best_params, best_vals, experiment, exp_model = hyperopt(\n",
    "    GMM,\n",
    "    params,\n",
    "    opt_params,\n",
    "    X, y,\n",
    "    trials=30,\n",
    "    val_split=0.8)\n",
    "\n",
    "y_hat = gmm.predict(X)\n",
    "plot_data(X, y_hat)"
   ]
  },
  {
   "cell_type": "code",
   "execution_count": null,
   "metadata": {
    "ExecuteTime": {
     "start_time": "2020-07-14T06:17:19.399Z"
    }
   },
   "outputs": [],
   "source": [
    "print(f\"n_components: {gmm.n_components}\")\n",
    "print(f\"n_hidden: {gmm.n_hidden}\")\n",
    "display(hyperopt_log(experiment))\n",
    "hyperparam_plot(exp_model, \"n_components\", \"n_hidden\")"
   ]
  },
  {
   "cell_type": "code",
   "execution_count": null,
   "metadata": {
    "ExecuteTime": {
     "start_time": "2020-07-14T06:17:19.741Z"
    }
   },
   "outputs": [],
   "source": [
    "from performance.performance import prob_overlap, kl, js\n",
    "p, q = prob_overlap(y, y_hat, bins=5)\n",
    "print(\"fKL:\", kl(p, q))\n",
    "print(\"rKL:\", kl(q, p))\n",
    "print(\"JS:\", js(p, q))"
   ]
  },
  {
   "cell_type": "markdown",
   "metadata": {},
   "source": [
    "# Model: Conditional Generative Adversarial Network"
   ]
  },
  {
   "cell_type": "code",
   "execution_count": null,
   "metadata": {
    "ExecuteTime": {
     "start_time": "2020-07-14T06:17:29.417Z"
    }
   },
   "outputs": [],
   "source": [
    "params = {\n",
    "    \"x_features\": 2,\n",
    "    \"y_features\": 1,\n",
    "    \"epochs\": 20000,\n",
    "}\n",
    "opt_params = {\n",
    "    'latent_dim': [1,100],\n",
    "    'g_hidden': [1,100],\n",
    "    'd_hidden': [1,100],\n",
    "    'label_smooth': [0.0,1.0],\n",
    "    'd_dropout': [0.0, 0.9],\n",
    "    'gp_weight': [0.0, 1.0],\n",
    "    'ds_weight': [0.0, 1.0],\n",
    "}\n",
    "\n",
    "cgan, best_params, best_vals, experiment, exp_model = hyperopt(\n",
    "    CGAN,\n",
    "    params,\n",
    "    opt_params,\n",
    "    X, y,\n",
    "    trials=30,\n",
    "    val_split=0.8)\n",
    "\n",
    "y_hat = cgan.predict(X)\n",
    "plot_data(X, y_hat)"
   ]
  },
  {
   "cell_type": "code",
   "execution_count": null,
   "metadata": {
    "ExecuteTime": {
     "start_time": "2020-07-14T06:17:30.795Z"
    },
    "scrolled": false
   },
   "outputs": [],
   "source": [
    "print(f\"latent_dim: {cgan.latent_dim}\")\n",
    "print(f\"g_hidden: {cgan.g_hidden}\")\n",
    "print(f\"d_hidden: {cgan.d_hidden}\")\n",
    "print(f\"label_smooth: {cgan.label_smooth}\")\n",
    "print(f\"d_dropout: {cgan.d_dropout}\")\n",
    "print(f\"gp_weight: {cgan.gp_weight}\")\n",
    "print(f\"ds_weight: {cgan.ds_weight}\")\n",
    "\n",
    "display(hyperopt_log(experiment))\n",
    "hyperparam_plot(exp_model, \"g_hidden\", \"d_hidden\")\n",
    "hyperparam_plot(exp_model, \"label_smooth\", \"d_dropout\")\n",
    "hyperparam_plot(exp_model, \"gp_weight\", \"ds_weight\")"
   ]
  },
  {
   "cell_type": "code",
   "execution_count": null,
   "metadata": {
    "ExecuteTime": {
     "start_time": "2020-07-14T06:17:38.176Z"
    }
   },
   "outputs": [],
   "source": [
    "from performance.performance import prob_overlap, kl, js\n",
    "p, q = prob_overlap(y, y_hat, bins=5)\n",
    "print(\"fKL:\", kl(p, q))\n",
    "print(\"rKL:\", kl(q, p))\n",
    "print(\"JS:\", js(p, q))"
   ]
  },
  {
   "cell_type": "markdown",
   "metadata": {},
   "source": [
    "# Model: Bayesian Neural Network"
   ]
  },
  {
   "cell_type": "code",
   "execution_count": null,
   "metadata": {
    "ExecuteTime": {
     "start_time": "2020-07-14T06:17:46.160Z"
    }
   },
   "outputs": [],
   "source": [
    "from model.bayesnn import BayesNN\n",
    "from hyperopt.hyperopt import hyperopt\n",
    "from hyperopt.hyperopt import hyperopt_log, hyperparam_plot, performance_plot\n",
    "\n",
    "params = {\n",
    "    \"x_features\": 2,\n",
    "    \"y_features\": 1,\n",
    "    \"epochs\": 2000,\n",
    "}\n",
    "opt_params = {\n",
    "    'n_hidden': [1,100],\n",
    "    'n_layers': [1,10],\n",
    "}\n",
    "\n",
    "bayesnn, best_params, best_vals, experiment, exp_model = hyperopt(\n",
    "    BayesNN,\n",
    "    params,\n",
    "    opt_params,\n",
    "    X, y,\n",
    "    trials=30,\n",
    "    val_split=0.8)\n",
    "\n",
    "y_hat = bayesnn.predict(X)\n",
    "plot_data(X, y_hat)"
   ]
  },
  {
   "cell_type": "code",
   "execution_count": null,
   "metadata": {
    "ExecuteTime": {
     "start_time": "2020-07-14T06:17:47.135Z"
    }
   },
   "outputs": [],
   "source": [
    "print(f\"n_hidden: {bayesnn.n_hidden}\")\n",
    "print(f\"n_layers: {bayesnn.n_layers}\")\n",
    "\n",
    "display(hyperopt_log(experiment))\n",
    "hyperparam_plot(exp_model, \"n_hidden\", \"n_layers\")"
   ]
  },
  {
   "cell_type": "code",
   "execution_count": null,
   "metadata": {
    "ExecuteTime": {
     "start_time": "2020-07-14T06:17:52.672Z"
    }
   },
   "outputs": [],
   "source": [
    "from performance.performance import prob_overlap, kl, js\n",
    "p, q = prob_overlap(y, y_hat, bins=5)\n",
    "print(\"fKL:\", kl(p, q))\n",
    "print(\"rKL:\", kl(q, p))\n",
    "print(\"JS:\", js(p, q))"
   ]
  },
  {
   "cell_type": "markdown",
   "metadata": {},
   "source": [
    "# Model: Monte Carlo Dropout"
   ]
  },
  {
   "cell_type": "code",
   "execution_count": null,
   "metadata": {
    "ExecuteTime": {
     "start_time": "2020-07-14T06:18:03.247Z"
    },
    "scrolled": true
   },
   "outputs": [],
   "source": [
    "from model.mcdropout import MCDropout\n",
    "from hyperopt.hyperopt import hyperopt\n",
    "from hyperopt.hyperopt import hyperopt_log, hyperparam_plot, performance_plot\n",
    "\n",
    "params = {\n",
    "    \"x_features\": 2,\n",
    "    \"y_features\": 1,\n",
    "    \"epochs\": 2000,\n",
    "}\n",
    "opt_params = {\n",
    "    'n_hidden': [1,100],\n",
    "    'dropout': [0.1,0.9],\n",
    "}\n",
    "\n",
    "mcdropout, best_params, best_vals, experiment, exp_model = hyperopt(\n",
    "    MCDropout,\n",
    "    params,\n",
    "    opt_params,\n",
    "    X, y,\n",
    "    trials=30,\n",
    "    val_split=0.8)\n",
    "\n",
    "y_hat, y_std = mcdropout.predict(X, return_std=True)\n",
    "y_hat = mcdropout.predict(X)\n",
    "plot_data(X, y_hat)"
   ]
  },
  {
   "cell_type": "code",
   "execution_count": null,
   "metadata": {
    "ExecuteTime": {
     "start_time": "2020-07-14T06:18:05.413Z"
    }
   },
   "outputs": [],
   "source": [
    "print(f\"n_hidden: {mcdropout.n_hidden}\")\n",
    "print(f\"dropout: {mcdropout.dropout}\")\n",
    "\n",
    "display(hyperopt_log(experiment))\n",
    "hyperparam_plot(exp_model, \"n_hidden\", \"dropout\")"
   ]
  },
  {
   "cell_type": "code",
   "execution_count": null,
   "metadata": {
    "ExecuteTime": {
     "start_time": "2020-07-14T06:18:12.967Z"
    }
   },
   "outputs": [],
   "source": [
    "from performance.performance import prob_overlap, kl, js\n",
    "p, q = prob_overlap(y, y_hat, bins=5)\n",
    "print(\"fKL:\", kl(p, q))\n",
    "print(\"rKL:\", kl(q, p))\n",
    "print(\"JS:\", js(p, q))"
   ]
  },
  {
   "cell_type": "markdown",
   "metadata": {},
   "source": [
    "# Model: Deep Ensemble"
   ]
  },
  {
   "cell_type": "code",
   "execution_count": null,
   "metadata": {
    "ExecuteTime": {
     "start_time": "2020-07-14T06:18:19.496Z"
    }
   },
   "outputs": [],
   "source": [
    "from model.deepensemble import DeepEnsemble\n",
    "from hyperopt.hyperopt import hyperopt\n",
    "from hyperopt.hyperopt import hyperopt_log, hyperparam_plot, performance_plot\n",
    "\n",
    "params = {\n",
    "    \"x_features\": 2,\n",
    "    \"y_features\": 1,\n",
    "    \"epochs\": 2000,\n",
    "}\n",
    "opt_params = {\n",
    "    'n_hidden': [1,100],\n",
    "    'dropout': [0.1,0.5],\n",
    "}\n",
    "\n",
    "deepensemble, best_params, best_vals, experiment, exp_model = hyperopt(\n",
    "    DeepEnsemble,\n",
    "    params,\n",
    "    opt_params,\n",
    "    X, y,\n",
    "    trials=30,\n",
    "    val_split=0.8)\n",
    "\n",
    "y_hat, y_std = deepensemble.predict(X, return_std=True)\n",
    "plot_data(X, y_hat)"
   ]
  },
  {
   "cell_type": "code",
   "execution_count": null,
   "metadata": {
    "ExecuteTime": {
     "start_time": "2020-07-14T06:18:21.085Z"
    }
   },
   "outputs": [],
   "source": [
    "print(f\"n_hidden: {deepensemble.n_hidden}\")\n",
    "print(f\"dropout: {deepensemble.dropout}\")\n",
    "\n",
    "display(hyperopt_log(experiment))\n",
    "hyperparam_plot(exp_model, \"n_hidden\", \"dropout\")"
   ]
  },
  {
   "cell_type": "code",
   "execution_count": null,
   "metadata": {
    "ExecuteTime": {
     "start_time": "2020-07-14T06:18:27.344Z"
    }
   },
   "outputs": [],
   "source": [
    "from performance.performance import prob_overlap, kl, js\n",
    "p, q = prob_overlap(y, y_hat, bins=5)\n",
    "print(\"fKL:\", kl(p, q))\n",
    "print(\"rKL:\", kl(q, p))\n",
    "print(\"JS:\", js(p, q))"
   ]
  },
  {
   "cell_type": "code",
   "execution_count": null,
   "metadata": {},
   "outputs": [],
   "source": []
  }
 ],
 "metadata": {
  "kernelspec": {
   "display_name": "Python (grab)",
   "language": "python",
   "name": "grab"
  },
  "language_info": {
   "codemirror_mode": {
    "name": "ipython",
    "version": 3
   },
   "file_extension": ".py",
   "mimetype": "text/x-python",
   "name": "python",
   "nbconvert_exporter": "python",
   "pygments_lexer": "ipython3",
   "version": "3.7.7"
  },
  "latex_envs": {
   "LaTeX_envs_menu_present": true,
   "autoclose": false,
   "autocomplete": true,
   "bibliofile": "biblio.bib",
   "cite_by": "apalike",
   "current_citInitial": 1,
   "eqLabelWithNumbers": true,
   "eqNumInitial": 1,
   "hotkeys": {
    "equation": "Ctrl-E",
    "itemize": "Ctrl-I"
   },
   "labels_anchors": false,
   "latex_user_defs": false,
   "report_style_numbering": false,
   "user_envs_cfg": false
  },
  "toc": {
   "base_numbering": 1,
   "nav_menu": {},
   "number_sections": true,
   "sideBar": true,
   "skip_h1_title": false,
   "title_cell": "Table of Contents",
   "title_sidebar": "Contents",
   "toc_cell": false,
   "toc_position": {},
   "toc_section_display": true,
   "toc_window_display": false
  }
 },
 "nbformat": 4,
 "nbformat_minor": 4
}
