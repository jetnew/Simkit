{
 "cells": [
  {
   "cell_type": "markdown",
   "metadata": {},
   "source": [
    "# Probabilistic Graphical Model\n",
    "\n",
    "Probabilistic Graphical Model is a probabilistic model for which a graph expresses the conditional dependence structure between random variables. Directed Graphical Models (DGMs) (or Bayesian Networks BNs) represent conditional dependencies between variables.\n",
    "\n",
    "Structure learning methods of the PGM can be either constraint- or score-based.\n",
    "\n",
    "Constraint-based structure learning use statistics tests to learn marginal/conditional independence relationships (or constraints) from the data and prune the graph-searching space using obtained constraints.\n",
    "\n",
    "Score-based structure learning assigns each candidate Directed Acyclic Graph (DAG) a score reflecting the goodness of fit as the objective function to be optimised, and uses a global score such as BIC or Bayesian marginal likelihood to find structures that maximises the score."
   ]
  },
  {
   "cell_type": "code",
   "execution_count": null,
   "metadata": {},
   "outputs": [],
   "source": []
  }
 ],
 "metadata": {
  "kernelspec": {
   "display_name": "Python (grab)",
   "language": "python",
   "name": "grab"
  },
  "language_info": {
   "codemirror_mode": {
    "name": "ipython",
    "version": 3
   },
   "file_extension": ".py",
   "mimetype": "text/x-python",
   "name": "python",
   "nbconvert_exporter": "python",
   "pygments_lexer": "ipython3",
   "version": "3.7.7"
  }
 },
 "nbformat": 4,
 "nbformat_minor": 4
}
