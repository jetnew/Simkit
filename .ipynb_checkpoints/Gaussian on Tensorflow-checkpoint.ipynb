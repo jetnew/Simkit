{
 "cells": [
  {
   "cell_type": "code",
   "execution_count": 1,
   "metadata": {
    "ExecuteTime": {
     "end_time": "2020-05-29T13:27:56.237240Z",
     "start_time": "2020-05-29T13:27:52.192958Z"
    }
   },
   "outputs": [],
   "source": [
    "import numpy as np\n",
    "import pandas as pd\n",
    "import matplotlib.pyplot as plt\n",
    "import tensorflow as tf\n",
    "import tensorflow_probability as tfp\n",
    "tfd = tfp.distributions"
   ]
  },
  {
   "cell_type": "markdown",
   "metadata": {},
   "source": [
    "1. `np.cov` uses the parameter `rowvar=0` to convert rows of samples into rows of variables to compute the covariance matrix.\n",
    "2. `np.diag` obtains the diagonal, which is the variances from a covariance matrix.\n",
    "3. `np.sqrt` will obtain the standard deviations of the diagonal."
   ]
  },
  {
   "cell_type": "code",
   "execution_count": 4,
   "metadata": {
    "ExecuteTime": {
     "end_time": "2020-05-29T13:19:18.304399Z",
     "start_time": "2020-05-29T13:19:18.233096Z"
    }
   },
   "outputs": [
    {
     "name": "stdout",
     "output_type": "stream",
     "text": [
      "[4.1   2.08  0.604]\n",
      "[[0.025   0.0075  0.00175]\n",
      " [0.0075  0.007   0.00135]\n",
      " [0.00175 0.00135 0.00043]]\n",
      "[0.025   0.007   0.00043]\n",
      "[0.15811388 0.083666   0.02073644]\n"
     ]
    }
   ],
   "source": [
    "X = np.array([[4.0, 2.0, 0.60],\n",
    "              [4.2, 2.1, 0.59],\n",
    "              [3.9, 2.0, 0.58],\n",
    "              [4.3, 2.1, 0.62],\n",
    "              [4.1, 2.2, 0.63]])\n",
    "\n",
    "X_mean = np.mean(X, axis=0)\n",
    "X_cov = np.cov(X, rowvar=0)\n",
    "X_diag = np.diag(X_cov)\n",
    "X_stddev = np.sqrt(X_diag)\n",
    "\n",
    "print(X_mean)\n",
    "print(X_cov)\n",
    "print(X_diag)\n",
    "print(X_stddev)"
   ]
  },
  {
   "cell_type": "markdown",
   "metadata": {
    "ExecuteTime": {
     "end_time": "2020-05-29T13:21:35.928770Z",
     "start_time": "2020-05-29T13:21:35.920709Z"
    }
   },
   "source": [
    "1. `tfd.MultivariateNormalFullCovariance` will be deprecated and `MultivariateNormalTriL(loc=loc, scale_tril=tf.linalg.cholesky(covariance_matrix))` should be used instead."
   ]
  },
  {
   "cell_type": "code",
   "execution_count": 6,
   "metadata": {
    "ExecuteTime": {
     "end_time": "2020-05-29T13:19:58.457516Z",
     "start_time": "2020-05-29T13:19:58.439587Z"
    }
   },
   "outputs": [
    {
     "name": "stdout",
     "output_type": "stream",
     "text": [
      "WARNING:tensorflow:From C:\\Users\\notes\\Anaconda3\\envs\\grab\\lib\\site-packages\\tensorflow_probability\\python\\distributions\\distribution.py:332: MultivariateNormalFullCovariance.__init__ (from tensorflow_probability.python.distributions.mvn_full_covariance) is deprecated and will be removed after 2019-12-01.\n",
      "Instructions for updating:\n",
      "`MultivariateNormalFullCovariance` is deprecated, use `MultivariateNormalTriL(loc=loc, scale_tril=tf.linalg.cholesky(covariance_matrix))` instead.\n",
      "[4.1   2.08  0.604]\n",
      "[[0.025   0.0075  0.00175]\n",
      " [0.0075  0.007   0.00135]\n",
      " [0.00175 0.00135 0.00043]]\n",
      "[0.15811388 0.083666   0.02073644]\n"
     ]
    }
   ],
   "source": [
    "mvn = tfd.MultivariateNormalFullCovariance(\n",
    "    loc=X_mean,\n",
    "    covariance_matrix=X_cov)\n",
    "\n",
    "mvn_mean = mvn.mean().numpy()\n",
    "mvn_cov = mvn.covariance().numpy()\n",
    "mvn_stddev = mvn.stddev().numpy()\n",
    "\n",
    "print(mvn_mean)\n",
    "print(mvn_cov)\n",
    "print(mvn_stddev)"
   ]
  },
  {
   "cell_type": "code",
   "execution_count": 5,
   "metadata": {
    "ExecuteTime": {
     "end_time": "2020-05-29T13:19:47.537373Z",
     "start_time": "2020-05-29T13:19:46.352395Z"
    }
   },
   "outputs": [
    {
     "name": "stdout",
     "output_type": "stream",
     "text": [
      "[4.1   2.08  0.604]\n",
      "[[0.025   0.0075  0.00175]\n",
      " [0.0075  0.007   0.00135]\n",
      " [0.00175 0.00135 0.00043]]\n",
      "[0.15811388 0.083666   0.02073644]\n"
     ]
    }
   ],
   "source": [
    "# Due to deprecated MultivariateNormalFullCovariance\n",
    "mvn = tfd.MultivariateNormalTriL(\n",
    "    loc=X_mean,\n",
    "    scale_tril=tf.linalg.cholesky(X_cov))\n",
    "\n",
    "mvn_mean = mvn.mean().numpy()\n",
    "mvn_cov = mvn.covariance().numpy()\n",
    "mvn_stddev = mvn.stddev().numpy()\n",
    "\n",
    "print(mvn_mean)\n",
    "print(mvn_cov)\n",
    "print(mvn_stddev)"
   ]
  },
  {
   "cell_type": "code",
   "execution_count": 7,
   "metadata": {
    "ExecuteTime": {
     "end_time": "2020-05-29T13:20:03.462117Z",
     "start_time": "2020-05-29T13:20:03.447603Z"
    }
   },
   "outputs": [
    {
     "name": "stdout",
     "output_type": "stream",
     "text": [
      "[4.1   2.08  0.604]\n",
      "[[0.025   0.      0.     ]\n",
      " [0.      0.007   0.     ]\n",
      " [0.      0.      0.00043]]\n",
      "[0.15811388 0.083666   0.02073644]\n"
     ]
    }
   ],
   "source": [
    "mvn = tfd.MultivariateNormalDiag(\n",
    "    loc=X_mean,\n",
    "    scale_diag=np.sqrt(X_diag))\n",
    "\n",
    "mvn_mean = mvn.mean().numpy()\n",
    "mvn_cov = mvn.covariance().numpy()\n",
    "mvn_stddev = mvn.stddev().numpy()\n",
    "\n",
    "print(mvn_mean)\n",
    "print(mvn_cov)\n",
    "print(mvn_stddev)"
   ]
  },
  {
   "cell_type": "markdown",
   "metadata": {},
   "source": [
    "1. A categorical distribution `tfd.Categorical(probs=pi)` is a discrete probability distribution that models a random variable that takes 1 of K possible categories."
   ]
  },
  {
   "cell_type": "code",
   "execution_count": 7,
   "metadata": {
    "ExecuteTime": {
     "end_time": "2020-05-29T13:30:02.790538Z",
     "start_time": "2020-05-29T13:30:02.785228Z"
    }
   },
   "outputs": [],
   "source": [
    "pi = np.array([0.2, 0.3, 0.5], dtype=np.float32)\n",
    "mu = np.array([10, 20, 30], dtype=np.float32)\n",
    "sigma = np.array([1, 2, 3], dtype=np.float32)"
   ]
  },
  {
   "cell_type": "code",
   "execution_count": 8,
   "metadata": {
    "ExecuteTime": {
     "end_time": "2020-05-29T13:30:03.410701Z",
     "start_time": "2020-05-29T13:30:03.400040Z"
    }
   },
   "outputs": [],
   "source": [
    "gmm = tfd.Mixture(\n",
    "    cat=tfd.Categorical(probs=pi),\n",
    "    components=[\n",
    "        tfd.Normal(loc=mu[0], scale=sigma[0]),\n",
    "        tfd.Normal(loc=mu[1], scale=sigma[1]),\n",
    "        tfd.Normal(loc=mu[2], scale=sigma[2])\n",
    "])"
   ]
  },
  {
   "cell_type": "code",
   "execution_count": 15,
   "metadata": {
    "ExecuteTime": {
     "end_time": "2020-05-29T13:32:41.847926Z",
     "start_time": "2020-05-29T13:32:41.472507Z"
    }
   },
   "outputs": [
    {
     "data": {
      "image/png": "[encoded data removed]",
      "text/plain": [
       "<Figure size 432x288 with 1 Axes>"
      ]
     },
     "metadata": {
      "needs_background": "light"
     },
     "output_type": "display_data"
    }
   ],
   "source": [
    "x = np.linspace(0, 40, 100)\n",
    "plt.plot(x, gmm.prob(x).numpy());"
   ]
  }
 ],
 "metadata": {
  "kernelspec": {
   "display_name": "Python (grab)",
   "language": "python",
   "name": "grab"
  },
  "language_info": {
   "codemirror_mode": {
    "name": "ipython",
    "version": 3
   },
   "file_extension": ".py",
   "mimetype": "text/x-python",
   "name": "python",
   "nbconvert_exporter": "python",
   "pygments_lexer": "ipython3",
   "version": "3.7.7"
  },
  "latex_envs": {
   "LaTeX_envs_menu_present": true,
   "autoclose": false,
   "autocomplete": true,
   "bibliofile": "biblio.bib",
   "cite_by": "apalike",
   "current_citInitial": 1,
   "eqLabelWithNumbers": true,
   "eqNumInitial": 1,
   "hotkeys": {
    "equation": "Ctrl-E",
    "itemize": "Ctrl-I"
   },
   "labels_anchors": false,
   "latex_user_defs": false,
   "report_style_numbering": false,
   "user_envs_cfg": false
  },
  "toc": {
   "base_numbering": 1,
   "nav_menu": {},
   "number_sections": true,
   "sideBar": true,
   "skip_h1_title": false,
   "title_cell": "Table of Contents",
   "title_sidebar": "Contents",
   "toc_cell": false,
   "toc_position": {},
   "toc_section_display": true,
   "toc_window_display": false
  }
 },
 "nbformat": 4,
 "nbformat_minor": 4
}
