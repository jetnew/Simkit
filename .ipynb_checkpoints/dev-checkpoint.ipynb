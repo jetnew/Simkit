{
 "cells": [
  {
   "cell_type": "markdown",
   "metadata": {},
   "source": [
    "# Implementation of Feature Models on Instacart"
   ]
  },
  {
   "cell_type": "markdown",
   "metadata": {},
   "source": [
    "## Imports"
   ]
  },
  {
   "cell_type": "code",
   "execution_count": 5,
   "metadata": {
    "ExecuteTime": {
     "end_time": "2020-05-18T02:50:59.498165Z",
     "start_time": "2020-05-18T02:50:59.492423Z"
    }
   },
   "outputs": [],
   "source": [
    "import numpy as np\n",
    "import pandas as pd\n",
    "import matplotlib.pyplot as plt\n",
    "plt.style.use('seaborn')"
   ]
  },
  {
   "cell_type": "markdown",
   "metadata": {},
   "source": [
    "## Read Instacart Data"
   ]
  },
  {
   "cell_type": "code",
   "execution_count": 6,
   "metadata": {
    "ExecuteTime": {
     "end_time": "2020-05-18T02:51:22.908166Z",
     "start_time": "2020-05-18T02:50:59.835798Z"
    }
   },
   "outputs": [],
   "source": [
    "import pandas as pd\n",
    "\n",
    "PATH = \"data/instacart/\"\n",
    "train = pd.read_csv(f\"{PATH}order_products__train.csv\")\n",
    "prior = pd.read_csv(f\"{PATH}order_products__prior.csv\")\n",
    "aisle = pd.read_csv(f\"{PATH}aisles.csv\")\n",
    "dept = pd.read_csv(f\"{PATH}departments.csv\")\n",
    "orders = pd.read_csv(f\"{PATH}orders.csv\")\n",
    "prods = pd.read_csv(f\"{PATH}products.csv\")"
   ]
  },
  {
   "cell_type": "markdown",
   "metadata": {
    "ExecuteTime": {
     "end_time": "2020-05-12T10:48:04.999471Z",
     "start_time": "2020-05-12T10:48:04.994452Z"
    }
   },
   "source": [
    "## Data\n",
    "\n",
    "orders\n",
    "* order_id, user_id, order_number, order_dow, order_hour_of_day, days_since_prior_order\n",
    "\n",
    "train, prior\n",
    "* order_id, product_id, add_to_cart_order, reordered\n",
    "\n",
    "aisle\n",
    "* aisle_id, aisle\n",
    "\n",
    "dept\n",
    "* department_id, department\n",
    "\n",
    "prods\n",
    "* product_id, product_name, aisle_id, department_id\n"
   ]
  },
  {
   "cell_type": "markdown",
   "metadata": {},
   "source": [
    "## Features\n",
    "\n",
    "Parent features\n",
    "* user_id, order_dow, order_hour_of_day\n",
    "\n",
    "Child features\n",
    "* Everything else"
   ]
  },
  {
   "cell_type": "code",
   "execution_count": 7,
   "metadata": {
    "ExecuteTime": {
     "end_time": "2020-05-18T02:51:22.967568Z",
     "start_time": "2020-05-18T02:51:22.913100Z"
    },
    "scrolled": false
   },
   "outputs": [
    {
     "data": {
      "text/html": [
       "<div>\n",
       "<style scoped>\n",
       "    .dataframe tbody tr th:only-of-type {\n",
       "        vertical-align: middle;\n",
       "    }\n",
       "\n",
       "    .dataframe tbody tr th {\n",
       "        vertical-align: top;\n",
       "    }\n",
       "\n",
       "    .dataframe thead th {\n",
       "        text-align: right;\n",
       "    }\n",
       "</style>\n",
       "<table border=\"1\" class=\"dataframe\">\n",
       "  <thead>\n",
       "    <tr style=\"text-align: right;\">\n",
       "      <th></th>\n",
       "      <th>order_id</th>\n",
       "      <th>user_id</th>\n",
       "      <th>eval_set</th>\n",
       "      <th>order_number</th>\n",
       "      <th>order_dow</th>\n",
       "      <th>order_hour_of_day</th>\n",
       "      <th>days_since_prior_order</th>\n",
       "    </tr>\n",
       "  </thead>\n",
       "  <tbody>\n",
       "    <tr>\n",
       "      <th>0</th>\n",
       "      <td>2539329</td>\n",
       "      <td>1</td>\n",
       "      <td>prior</td>\n",
       "      <td>1</td>\n",
       "      <td>2</td>\n",
       "      <td>8</td>\n",
       "      <td>NaN</td>\n",
       "    </tr>\n",
       "    <tr>\n",
       "      <th>1</th>\n",
       "      <td>2398795</td>\n",
       "      <td>1</td>\n",
       "      <td>prior</td>\n",
       "      <td>2</td>\n",
       "      <td>3</td>\n",
       "      <td>7</td>\n",
       "      <td>15.0</td>\n",
       "    </tr>\n",
       "    <tr>\n",
       "      <th>2</th>\n",
       "      <td>473747</td>\n",
       "      <td>1</td>\n",
       "      <td>prior</td>\n",
       "      <td>3</td>\n",
       "      <td>3</td>\n",
       "      <td>12</td>\n",
       "      <td>21.0</td>\n",
       "    </tr>\n",
       "    <tr>\n",
       "      <th>3</th>\n",
       "      <td>2254736</td>\n",
       "      <td>1</td>\n",
       "      <td>prior</td>\n",
       "      <td>4</td>\n",
       "      <td>4</td>\n",
       "      <td>7</td>\n",
       "      <td>29.0</td>\n",
       "    </tr>\n",
       "    <tr>\n",
       "      <th>4</th>\n",
       "      <td>431534</td>\n",
       "      <td>1</td>\n",
       "      <td>prior</td>\n",
       "      <td>5</td>\n",
       "      <td>4</td>\n",
       "      <td>15</td>\n",
       "      <td>28.0</td>\n",
       "    </tr>\n",
       "    <tr>\n",
       "      <th>...</th>\n",
       "      <td>...</td>\n",
       "      <td>...</td>\n",
       "      <td>...</td>\n",
       "      <td>...</td>\n",
       "      <td>...</td>\n",
       "      <td>...</td>\n",
       "      <td>...</td>\n",
       "    </tr>\n",
       "    <tr>\n",
       "      <th>9995</th>\n",
       "      <td>2650063</td>\n",
       "      <td>633</td>\n",
       "      <td>prior</td>\n",
       "      <td>1</td>\n",
       "      <td>3</td>\n",
       "      <td>12</td>\n",
       "      <td>NaN</td>\n",
       "    </tr>\n",
       "    <tr>\n",
       "      <th>9996</th>\n",
       "      <td>3051335</td>\n",
       "      <td>633</td>\n",
       "      <td>prior</td>\n",
       "      <td>2</td>\n",
       "      <td>6</td>\n",
       "      <td>19</td>\n",
       "      <td>17.0</td>\n",
       "    </tr>\n",
       "    <tr>\n",
       "      <th>9997</th>\n",
       "      <td>1901440</td>\n",
       "      <td>633</td>\n",
       "      <td>prior</td>\n",
       "      <td>3</td>\n",
       "      <td>1</td>\n",
       "      <td>9</td>\n",
       "      <td>30.0</td>\n",
       "    </tr>\n",
       "    <tr>\n",
       "      <th>9998</th>\n",
       "      <td>1624343</td>\n",
       "      <td>633</td>\n",
       "      <td>prior</td>\n",
       "      <td>4</td>\n",
       "      <td>1</td>\n",
       "      <td>13</td>\n",
       "      <td>30.0</td>\n",
       "    </tr>\n",
       "    <tr>\n",
       "      <th>9999</th>\n",
       "      <td>3128663</td>\n",
       "      <td>633</td>\n",
       "      <td>test</td>\n",
       "      <td>5</td>\n",
       "      <td>3</td>\n",
       "      <td>19</td>\n",
       "      <td>16.0</td>\n",
       "    </tr>\n",
       "  </tbody>\n",
       "</table>\n",
       "<p>10000 rows × 7 columns</p>\n",
       "</div>"
      ],
      "text/plain": [
       "      order_id  user_id eval_set  order_number  order_dow  order_hour_of_day  \\\n",
       "0      2539329        1    prior             1          2                  8   \n",
       "1      2398795        1    prior             2          3                  7   \n",
       "2       473747        1    prior             3          3                 12   \n",
       "3      2254736        1    prior             4          4                  7   \n",
       "4       431534        1    prior             5          4                 15   \n",
       "...        ...      ...      ...           ...        ...                ...   \n",
       "9995   2650063      633    prior             1          3                 12   \n",
       "9996   3051335      633    prior             2          6                 19   \n",
       "9997   1901440      633    prior             3          1                  9   \n",
       "9998   1624343      633    prior             4          1                 13   \n",
       "9999   3128663      633     test             5          3                 19   \n",
       "\n",
       "      days_since_prior_order  \n",
       "0                        NaN  \n",
       "1                       15.0  \n",
       "2                       21.0  \n",
       "3                       29.0  \n",
       "4                       28.0  \n",
       "...                      ...  \n",
       "9995                     NaN  \n",
       "9996                    17.0  \n",
       "9997                    30.0  \n",
       "9998                    30.0  \n",
       "9999                    16.0  \n",
       "\n",
       "[10000 rows x 7 columns]"
      ]
     },
     "execution_count": 7,
     "metadata": {},
     "output_type": "execute_result"
    }
   ],
   "source": [
    "df_dev = orders.loc[:9999]\n",
    "df_dev"
   ]
  },
  {
   "cell_type": "markdown",
   "metadata": {},
   "source": [
    "# Gaussian Mixture Model\n",
    "\n",
    "The Gaussian mixture model (GMM) is a probabilistic model for representing normally distributed subpopulations within an overall population. A Gaussian mixture model is parameterized by the mixture component weights, means and covariances. Clusters are modelled as Gaussians not just by their mean but their covariances. The Expectation-Maximisation algorithm assigns data to each cluster with a probability. The GMM gives a probability model of x, a “generative” model.\n",
    "\n",
    "#### Joint probability distribution\n",
    "\n",
    "![title](asset/gmm_def.png)\n",
    "\n",
    "#### Latent variable form, sampling from P(x):\n",
    "\n",
    "![LVM](asset/gmm_lvm.png)\n",
    "\n",
    "#### Maximum Likelihood estimates\n",
    "\n",
    "![MLE](asset/gmm_mle.png)\n",
    "\n",
    "#### Expectation Maximisation (EM) Algorithm\n",
    "\n",
    "* E-step (Expectation): For each datum x_i, compute r_ic, probability that it belongs to cluster c:\n",
    "\n",
    "    * Compute its probability under model c\n",
    "    * Normalise to sum to one (over clusters c)\n",
    "    \n",
    "    ![E step](asset/gmm_e_step.png)\n",
    "\n",
    "* M-step (Maximisation): For each cluster z=c, update its parameters using the (weighted) data points\n",
    "\n",
    "![M_step](asset/gmm_m_step.png)\n",
    "\n",
    "#### Log Likelihood\n",
    "\n",
    "Each step of the EM algorithm increases the log-likelihood of the GMM, and convergence is guaranteed as another Coordinate Ascent method.\n",
    "\n",
    "![Log_likelihood](asset/gmm_log_likelihood.png)\n",
    "\n",
    "#### Variational Inference\n",
    "\n",
    "Each parameter is replaced from a point to a probability distribution, called the “variational posterior”. The Kullback-Leibler divergence is minimised between the true value and the estimate. Each component’s mean, standard deviation and weight are modelled by the normal, inverse gamma and Dirichlet distributions respectively. Because the gamma distribution is often used as a posterior for the precision and the precision is the reciprocal of the variance, the variational posterior for the variance can be modelled by the inverse gamma distribution. The probability of a data point being generated by any of the components is modelled with a categorical distribution, and the likelihood of a datapoint is determined by the corresponding mixture component’s multivariate normal distribution.\n",
    "\n",
    "#### Variational Inference v.s. Expectation Maximisation\n",
    "\n",
    "Expectation maximisation provides a point estimate while variational inference provides the posterior distribution. Expectation maximisation does not have any measure of uncertainty that the measure conveys with it.\n",
    "\n",
    "#### No. of Components\n",
    "\n",
    "The number of components in the Gaussian mixture model is a hyperparameter, initialised by either held-out data using log-likelihood or info-theoretic criteria such as Bayesian information criterion (BIC) or Akaike information criterion (AIC), in the absence of external cues, with an assumption of independently and identically distributed (i.i.d.) data.\n",
    "\n",
    "#### Posteriori component assignment probability\n",
    "\n",
    "The posteriori component assignment probability can be estimated using Bayes’ theorem and the estimated model parameters. The probability that a data point x belongs to component C_i is calculated using Bayes’ theorem:\n",
    "\n",
    "![title](asset/gmm_cond.png)\n",
    "\n",
    "#### Class-conditional GMM\n",
    "\n",
    "A class-conditional Gaussian mixture model can be useful for class-conditional classification. Learning by fitting the Gaussian to data in each class gives P(position|class). To perform inference, the Bayes’ rule is employed where P(class|position) is proportional to P(position|class)P(class).\n",
    "\n",
    "The conditional distribution for a Gaussian mixture model is defined as:\n",
    "  \n",
    "![title](asset/gmm_class_cond.png)\n"
   ]
  },
  {
   "cell_type": "code",
   "execution_count": 37,
   "metadata": {},
   "outputs": [
    {
     "data": {
      "image/png": "[encoded data removed]",
      "text/plain": [
       "<Figure size 576x396 with 1 Axes>"
      ]
     },
     "metadata": {},
     "output_type": "display_data"
    }
   ],
   "source": [
    "\"\"\"Tensorflow Implementation, using Variational Inference\n",
    "VI vs EM: https://www.quora.com/When-should-I-use-variational-inference-vs-expectation-maximization-for-fitting-a-Gaussian-mixture-model\n",
    "\"\"\"\n",
    "\n",
    "# Imports\n",
    "import numpy as np\n",
    "import matplotlib.pyplot as plt\n",
    "import seaborn as sns\n",
    "import tensorflow as tf\n",
    "import tensorflow_probability as tfp\n",
    "tfd = tfp.distributions\n",
    "\n",
    "X = df_dev[['order_dow', 'order_hour_of_day']].values\n",
    "X = X.astype(np.float32)\n",
    "N = len(X)\n",
    "\n",
    "plt.plot(X[:,0], X[:,1], '.')\n",
    "plt.show()\n",
    "\n",
    "# TF Dataset\n",
    "batch_size = 500\n",
    "dataset = tf.data.Dataset.from_tensor_slices(\n",
    "    (X)).shuffle(10000).batch(batch_size)"
   ]
  },
  {
   "cell_type": "code",
   "execution_count": 38,
   "metadata": {},
   "outputs": [],
   "source": [
    "class GaussianMixtureModel(tf.keras.Model):\n",
    "    \"\"\"Bayesian Gaussian mixture model.\n",
    "    \n",
    "    Parameters:\n",
    "    - Nc: int > 0, Number of mixture components.\n",
    "    - Nd: int > 0, Number of dimensions.\n",
    "        \n",
    "    Assumption:\n",
    "    - Gaussians' variances in each dimension are independent.\n",
    "    \"\"\"\n",
    "      \n",
    "    def __init__(self, Nc, Nd):\n",
    "        # Initialize\n",
    "        super(GaussianMixtureModel, self).__init__()\n",
    "        self.Nc = Nc\n",
    "        self.Nd = Nd\n",
    "        \n",
    "        # Variational distribution variables for means\n",
    "        self.locs = tf.Variable(tf.random.normal((Nc, Nd)))\n",
    "        self.scales = tf.Variable(tf.pow(tf.random.gamma((Nc, Nd), 5, 5), -0.5))\n",
    "        \n",
    "        # Variational distribution variables for standard deviations\n",
    "        self.alpha = tf.Variable(tf.random.uniform((Nc, Nd), 4., 6.))\n",
    "        self.beta = tf.Variable(tf.random.uniform((Nc, Nd), 4., 6.))\n",
    "        \n",
    "        # Variational distribution variables for component weights\n",
    "        self.counts = tf.Variable(2*tf.ones((Nc,)))\n",
    "\n",
    "        # Prior distributions for the means\n",
    "        self.mu_prior = tfd.Normal(tf.zeros((Nc, Nd)), tf.ones((Nc, Nd)))\n",
    "\n",
    "        # Prior distributions for the standard deviations\n",
    "        self.sigma_prior = tfd.Gamma(5*tf.ones((Nc, Nd)), 5*tf.ones((Nc, Nd)))\n",
    "        \n",
    "        # Prior distributions for the component weights\n",
    "        self.theta_prior = tfd.Dirichlet(2*tf.ones((Nc,)))\n",
    "        \n",
    "        \n",
    "        \n",
    "    def call(self, x, sampling=True):\n",
    "        \"\"\"Compute losses given a batch of data.\n",
    "        \n",
    "        Parameters:\n",
    "        - x: tf.Tensor, Data batch\n",
    "        - sampling: bool, Sample from variational posterior distributions\n",
    "                    or mean of variational distributions.            \n",
    "        \n",
    "        Returns:\n",
    "        - log_likelihoods: tf.Tensor, Log likelihood for each sample\n",
    "        - kl_sum : tf.Tensor, Sum of the KL divergences between the variational\n",
    "                   distributions and their priors\n",
    "        \"\"\"\n",
    "        \n",
    "        # The variational distributions\n",
    "        mu = tfd.Normal(self.locs, self.scales)\n",
    "        sigma = tfd.Gamma(self.alpha, self.beta)\n",
    "        theta = tfd.Dirichlet(self.counts)\n",
    "        \n",
    "        # Sample from the variational distributions\n",
    "        if sampling:\n",
    "            Nb = x.shape[0]  # no. of samples in the batch\n",
    "            mu_sample = mu.sample(Nb)\n",
    "            sigma_sample = tf.pow(sigma.sample(Nb), -0.5)\n",
    "            theta_sample = theta.sample(Nb)\n",
    "        else:\n",
    "            mu_sample = tf.reshape(mu.mean(), (1, self.Nc, self.Nd))\n",
    "            sigma_sample = tf.pow(tf.reshape(sigma.mean(), (1, self.Nc, self.Nd)), -0.5)\n",
    "            theta_sample = tf.reshape(theta.mean(), (1, self.Nc))\n",
    "        \n",
    "        # The mixture density\n",
    "        density = tfd.Mixture(\n",
    "            cat=tfd.Categorical(probs=theta_sample),\n",
    "            components=[\n",
    "                tfd.MultivariateNormalDiag(loc=mu_sample[:, i, :],\n",
    "                                           scale_diag=sigma_sample[:, i, :])\n",
    "                for i in range(self.Nc)])\n",
    "                \n",
    "        # Compute the mean log likelihood\n",
    "        log_likelihoods = density.log_prob(x)\n",
    "        \n",
    "        # Compute the KL divergence sum\n",
    "        mu_div    = tf.reduce_sum(tfd.kl_divergence(mu,    self.mu_prior))\n",
    "        sigma_div = tf.reduce_sum(tfd.kl_divergence(sigma, self.sigma_prior))\n",
    "        theta_div = tf.reduce_sum(tfd.kl_divergence(theta, self.theta_prior))\n",
    "        kl_sum = mu_div + sigma_div + theta_div\n",
    "        \n",
    "        # Return both losses\n",
    "        return log_likelihoods, kl_sum"
   ]
  },
  {
   "cell_type": "code",
   "execution_count": 39,
   "metadata": {
    "scrolled": false
   },
   "outputs": [],
   "source": [
    "# A GMM with 3 components in 2 dimensions\n",
    "model = GaussianMixtureModel(3, 2)\n",
    "\n",
    "# Use the Adam optimizer\n",
    "optimizer = tf.keras.optimizers.Adam(lr=1e-3)\n",
    "\n",
    "# Minimise the negative evidence lower bound (ELBO)\n",
    "@tf.function\n",
    "def train_step(data):\n",
    "    with tf.GradientTape() as tape:\n",
    "        log_likelihoods, kl_sum = model(data)\n",
    "        elbo_loss = kl_sum/N - tf.reduce_mean(log_likelihoods)\n",
    "    tvars = model.trainable_variables\n",
    "    gradients = tape.gradient(elbo_loss, tvars)\n",
    "    optimizer.apply_gradients(zip(gradients, tvars))\n",
    "    \n",
    "# Fit the model\n",
    "EPOCHS = 1000\n",
    "for epoch in range(EPOCHS):\n",
    "    for data in dataset:\n",
    "        train_step(data)"
   ]
  },
  {
   "cell_type": "code",
   "execution_count": 62,
   "metadata": {},
   "outputs": [],
   "source": [
    "def train_model(n_components, dataset):\n",
    "    # A GMM with n components in 2 dimensions\n",
    "    model = GaussianMixtureModel(n_components, 2)\n",
    "    \n",
    "    # Use the Adam optimizer\n",
    "    optimizer = tf.keras.optimizers.Adam(lr=1e-3)\n",
    "\n",
    "    # Minimise the negative evidence lower bound (ELBO)\n",
    "    @tf.function\n",
    "    def train_step(data):\n",
    "        with tf.GradientTape() as tape:\n",
    "            log_likelihoods, kl_sum = model(data)\n",
    "            elbo_loss = kl_sum/N - tf.reduce_mean(log_likelihoods)\n",
    "        tvars = model.trainable_variables\n",
    "        gradients = tape.gradient(elbo_loss, tvars)\n",
    "        optimizer.apply_gradients(zip(gradients, tvars))\n",
    "\n",
    "    # Fit the model\n",
    "    EPOCHS = 1000\n",
    "    for epoch in range(EPOCHS):\n",
    "        for data in dataset:\n",
    "            train_step(data)\n",
    "            \n",
    "    return model"
   ]
  },
  {
   "cell_type": "code",
   "execution_count": 66,
   "metadata": {},
   "outputs": [
    {
     "name": "stdout",
     "output_type": "stream",
     "text": [
      "2\n",
      "3\n",
      "4\n",
      "5\n",
      "6\n",
      "7\n",
      "8\n",
      "9\n"
     ]
    }
   ],
   "source": [
    "ll_kl = []\n",
    "for i in range(2,10):\n",
    "    print(i)\n",
    "    ll_kl.append(train_model(i, dataset)(X))"
   ]
  },
  {
   "cell_type": "code",
   "execution_count": 64,
   "metadata": {},
   "outputs": [
    {
     "ename": "KeyboardInterrupt",
     "evalue": "",
     "output_type": "error",
     "traceback": [
      "\u001b[1;31m---------------------------------------------------------------------------\u001b[0m",
      "\u001b[1;31mKeyboardInterrupt\u001b[0m                         Traceback (most recent call last)",
      "\u001b[1;32m<ipython-input-64-044baf3913aa>\u001b[0m in \u001b[0;36m<module>\u001b[1;34m\u001b[0m\n\u001b[1;32m----> 1\u001b[1;33m \u001b[0mll\u001b[0m \u001b[1;33m=\u001b[0m \u001b[1;33m[\u001b[0m\u001b[0mtrain_model\u001b[0m\u001b[1;33m(\u001b[0m\u001b[0mi\u001b[0m\u001b[1;33m,\u001b[0m \u001b[0mdataset\u001b[0m\u001b[1;33m)\u001b[0m\u001b[1;33m(\u001b[0m\u001b[0mX\u001b[0m\u001b[1;33m)\u001b[0m \u001b[1;32mfor\u001b[0m \u001b[0mi\u001b[0m \u001b[1;32min\u001b[0m \u001b[0mrange\u001b[0m\u001b[1;33m(\u001b[0m\u001b[1;36m2\u001b[0m\u001b[1;33m,\u001b[0m\u001b[1;36m10\u001b[0m\u001b[1;33m)\u001b[0m\u001b[1;33m]\u001b[0m\u001b[1;33m\u001b[0m\u001b[1;33m\u001b[0m\u001b[0m\n\u001b[0m",
      "\u001b[1;32m<ipython-input-64-044baf3913aa>\u001b[0m in \u001b[0;36m<listcomp>\u001b[1;34m(.0)\u001b[0m\n\u001b[1;32m----> 1\u001b[1;33m \u001b[0mll\u001b[0m \u001b[1;33m=\u001b[0m \u001b[1;33m[\u001b[0m\u001b[0mtrain_model\u001b[0m\u001b[1;33m(\u001b[0m\u001b[0mi\u001b[0m\u001b[1;33m,\u001b[0m \u001b[0mdataset\u001b[0m\u001b[1;33m)\u001b[0m\u001b[1;33m(\u001b[0m\u001b[0mX\u001b[0m\u001b[1;33m)\u001b[0m \u001b[1;32mfor\u001b[0m \u001b[0mi\u001b[0m \u001b[1;32min\u001b[0m \u001b[0mrange\u001b[0m\u001b[1;33m(\u001b[0m\u001b[1;36m2\u001b[0m\u001b[1;33m,\u001b[0m\u001b[1;36m10\u001b[0m\u001b[1;33m)\u001b[0m\u001b[1;33m]\u001b[0m\u001b[1;33m\u001b[0m\u001b[1;33m\u001b[0m\u001b[0m\n\u001b[0m",
      "\u001b[1;32m<ipython-input-62-f589da4af7f7>\u001b[0m in \u001b[0;36mtrain_model\u001b[1;34m(n_components, dataset)\u001b[0m\n\u001b[0;32m     20\u001b[0m     \u001b[1;32mfor\u001b[0m \u001b[0mepoch\u001b[0m \u001b[1;32min\u001b[0m \u001b[0mrange\u001b[0m\u001b[1;33m(\u001b[0m\u001b[0mEPOCHS\u001b[0m\u001b[1;33m)\u001b[0m\u001b[1;33m:\u001b[0m\u001b[1;33m\u001b[0m\u001b[1;33m\u001b[0m\u001b[0m\n\u001b[0;32m     21\u001b[0m         \u001b[1;32mfor\u001b[0m \u001b[0mdata\u001b[0m \u001b[1;32min\u001b[0m \u001b[0mdataset\u001b[0m\u001b[1;33m:\u001b[0m\u001b[1;33m\u001b[0m\u001b[1;33m\u001b[0m\u001b[0m\n\u001b[1;32m---> 22\u001b[1;33m             \u001b[0mtrain_step\u001b[0m\u001b[1;33m(\u001b[0m\u001b[0mdata\u001b[0m\u001b[1;33m)\u001b[0m\u001b[1;33m\u001b[0m\u001b[1;33m\u001b[0m\u001b[0m\n\u001b[0m\u001b[0;32m     23\u001b[0m \u001b[1;33m\u001b[0m\u001b[0m\n\u001b[0;32m     24\u001b[0m     \u001b[1;32mreturn\u001b[0m \u001b[0mmodel\u001b[0m\u001b[1;33m\u001b[0m\u001b[1;33m\u001b[0m\u001b[0m\n",
      "\u001b[1;32m~\\Anaconda3\\envs\\grab\\lib\\site-packages\\tensorflow\\python\\eager\\def_function.py\u001b[0m in \u001b[0;36m__call__\u001b[1;34m(self, *args, **kwds)\u001b[0m\n\u001b[0;32m    578\u001b[0m         \u001b[0mxla_context\u001b[0m\u001b[1;33m.\u001b[0m\u001b[0mExit\u001b[0m\u001b[1;33m(\u001b[0m\u001b[1;33m)\u001b[0m\u001b[1;33m\u001b[0m\u001b[1;33m\u001b[0m\u001b[0m\n\u001b[0;32m    579\u001b[0m     \u001b[1;32melse\u001b[0m\u001b[1;33m:\u001b[0m\u001b[1;33m\u001b[0m\u001b[1;33m\u001b[0m\u001b[0m\n\u001b[1;32m--> 580\u001b[1;33m       \u001b[0mresult\u001b[0m \u001b[1;33m=\u001b[0m \u001b[0mself\u001b[0m\u001b[1;33m.\u001b[0m\u001b[0m_call\u001b[0m\u001b[1;33m(\u001b[0m\u001b[1;33m*\u001b[0m\u001b[0margs\u001b[0m\u001b[1;33m,\u001b[0m \u001b[1;33m**\u001b[0m\u001b[0mkwds\u001b[0m\u001b[1;33m)\u001b[0m\u001b[1;33m\u001b[0m\u001b[1;33m\u001b[0m\u001b[0m\n\u001b[0m\u001b[0;32m    581\u001b[0m \u001b[1;33m\u001b[0m\u001b[0m\n\u001b[0;32m    582\u001b[0m     \u001b[1;32mif\u001b[0m \u001b[0mtracing_count\u001b[0m \u001b[1;33m==\u001b[0m \u001b[0mself\u001b[0m\u001b[1;33m.\u001b[0m\u001b[0m_get_tracing_count\u001b[0m\u001b[1;33m(\u001b[0m\u001b[1;33m)\u001b[0m\u001b[1;33m:\u001b[0m\u001b[1;33m\u001b[0m\u001b[1;33m\u001b[0m\u001b[0m\n",
      "\u001b[1;32m~\\Anaconda3\\envs\\grab\\lib\\site-packages\\tensorflow\\python\\eager\\def_function.py\u001b[0m in \u001b[0;36m_call\u001b[1;34m(self, *args, **kwds)\u001b[0m\n\u001b[0;32m    609\u001b[0m       \u001b[1;31m# In this case we have created variables on the first call, so we run the\u001b[0m\u001b[1;33m\u001b[0m\u001b[1;33m\u001b[0m\u001b[1;33m\u001b[0m\u001b[0m\n\u001b[0;32m    610\u001b[0m       \u001b[1;31m# defunned version which is guaranteed to never create variables.\u001b[0m\u001b[1;33m\u001b[0m\u001b[1;33m\u001b[0m\u001b[1;33m\u001b[0m\u001b[0m\n\u001b[1;32m--> 611\u001b[1;33m       \u001b[1;32mreturn\u001b[0m \u001b[0mself\u001b[0m\u001b[1;33m.\u001b[0m\u001b[0m_stateless_fn\u001b[0m\u001b[1;33m(\u001b[0m\u001b[1;33m*\u001b[0m\u001b[0margs\u001b[0m\u001b[1;33m,\u001b[0m \u001b[1;33m**\u001b[0m\u001b[0mkwds\u001b[0m\u001b[1;33m)\u001b[0m  \u001b[1;31m# pylint: disable=not-callable\u001b[0m\u001b[1;33m\u001b[0m\u001b[1;33m\u001b[0m\u001b[0m\n\u001b[0m\u001b[0;32m    612\u001b[0m     \u001b[1;32melif\u001b[0m \u001b[0mself\u001b[0m\u001b[1;33m.\u001b[0m\u001b[0m_stateful_fn\u001b[0m \u001b[1;32mis\u001b[0m \u001b[1;32mnot\u001b[0m \u001b[1;32mNone\u001b[0m\u001b[1;33m:\u001b[0m\u001b[1;33m\u001b[0m\u001b[1;33m\u001b[0m\u001b[0m\n\u001b[0;32m    613\u001b[0m       \u001b[1;31m# Release the lock early so that multiple threads can perform the call\u001b[0m\u001b[1;33m\u001b[0m\u001b[1;33m\u001b[0m\u001b[1;33m\u001b[0m\u001b[0m\n",
      "\u001b[1;32m~\\Anaconda3\\envs\\grab\\lib\\site-packages\\tensorflow\\python\\eager\\function.py\u001b[0m in \u001b[0;36m__call__\u001b[1;34m(self, *args, **kwargs)\u001b[0m\n\u001b[0;32m   2418\u001b[0m     \u001b[1;32mwith\u001b[0m \u001b[0mself\u001b[0m\u001b[1;33m.\u001b[0m\u001b[0m_lock\u001b[0m\u001b[1;33m:\u001b[0m\u001b[1;33m\u001b[0m\u001b[1;33m\u001b[0m\u001b[0m\n\u001b[0;32m   2419\u001b[0m       \u001b[0mgraph_function\u001b[0m\u001b[1;33m,\u001b[0m \u001b[0margs\u001b[0m\u001b[1;33m,\u001b[0m \u001b[0mkwargs\u001b[0m \u001b[1;33m=\u001b[0m \u001b[0mself\u001b[0m\u001b[1;33m.\u001b[0m\u001b[0m_maybe_define_function\u001b[0m\u001b[1;33m(\u001b[0m\u001b[0margs\u001b[0m\u001b[1;33m,\u001b[0m \u001b[0mkwargs\u001b[0m\u001b[1;33m)\u001b[0m\u001b[1;33m\u001b[0m\u001b[1;33m\u001b[0m\u001b[0m\n\u001b[1;32m-> 2420\u001b[1;33m     \u001b[1;32mreturn\u001b[0m \u001b[0mgraph_function\u001b[0m\u001b[1;33m.\u001b[0m\u001b[0m_filtered_call\u001b[0m\u001b[1;33m(\u001b[0m\u001b[0margs\u001b[0m\u001b[1;33m,\u001b[0m \u001b[0mkwargs\u001b[0m\u001b[1;33m)\u001b[0m  \u001b[1;31m# pylint: disable=protected-access\u001b[0m\u001b[1;33m\u001b[0m\u001b[1;33m\u001b[0m\u001b[0m\n\u001b[0m\u001b[0;32m   2421\u001b[0m \u001b[1;33m\u001b[0m\u001b[0m\n\u001b[0;32m   2422\u001b[0m   \u001b[1;33m@\u001b[0m\u001b[0mproperty\u001b[0m\u001b[1;33m\u001b[0m\u001b[1;33m\u001b[0m\u001b[0m\n",
      "\u001b[1;32m~\\Anaconda3\\envs\\grab\\lib\\site-packages\\tensorflow\\python\\eager\\function.py\u001b[0m in \u001b[0;36m_filtered_call\u001b[1;34m(self, args, kwargs)\u001b[0m\n\u001b[0;32m   1663\u001b[0m          if isinstance(t, (ops.Tensor,\n\u001b[0;32m   1664\u001b[0m                            resource_variable_ops.BaseResourceVariable))),\n\u001b[1;32m-> 1665\u001b[1;33m         self.captured_inputs)\n\u001b[0m\u001b[0;32m   1666\u001b[0m \u001b[1;33m\u001b[0m\u001b[0m\n\u001b[0;32m   1667\u001b[0m   \u001b[1;32mdef\u001b[0m \u001b[0m_call_flat\u001b[0m\u001b[1;33m(\u001b[0m\u001b[0mself\u001b[0m\u001b[1;33m,\u001b[0m \u001b[0margs\u001b[0m\u001b[1;33m,\u001b[0m \u001b[0mcaptured_inputs\u001b[0m\u001b[1;33m,\u001b[0m \u001b[0mcancellation_manager\u001b[0m\u001b[1;33m=\u001b[0m\u001b[1;32mNone\u001b[0m\u001b[1;33m)\u001b[0m\u001b[1;33m:\u001b[0m\u001b[1;33m\u001b[0m\u001b[1;33m\u001b[0m\u001b[0m\n",
      "\u001b[1;32m~\\Anaconda3\\envs\\grab\\lib\\site-packages\\tensorflow\\python\\eager\\function.py\u001b[0m in \u001b[0;36m_call_flat\u001b[1;34m(self, args, captured_inputs, cancellation_manager)\u001b[0m\n\u001b[0;32m   1744\u001b[0m       \u001b[1;31m# No tape is watching; skip to running the function.\u001b[0m\u001b[1;33m\u001b[0m\u001b[1;33m\u001b[0m\u001b[1;33m\u001b[0m\u001b[0m\n\u001b[0;32m   1745\u001b[0m       return self._build_call_outputs(self._inference_function.call(\n\u001b[1;32m-> 1746\u001b[1;33m           ctx, args, cancellation_manager=cancellation_manager))\n\u001b[0m\u001b[0;32m   1747\u001b[0m     forward_backward = self._select_forward_and_backward_functions(\n\u001b[0;32m   1748\u001b[0m         \u001b[0margs\u001b[0m\u001b[1;33m,\u001b[0m\u001b[1;33m\u001b[0m\u001b[1;33m\u001b[0m\u001b[0m\n",
      "\u001b[1;32m~\\Anaconda3\\envs\\grab\\lib\\site-packages\\tensorflow\\python\\eager\\function.py\u001b[0m in \u001b[0;36mcall\u001b[1;34m(self, ctx, args, cancellation_manager)\u001b[0m\n\u001b[0;32m    596\u001b[0m               \u001b[0minputs\u001b[0m\u001b[1;33m=\u001b[0m\u001b[0margs\u001b[0m\u001b[1;33m,\u001b[0m\u001b[1;33m\u001b[0m\u001b[1;33m\u001b[0m\u001b[0m\n\u001b[0;32m    597\u001b[0m               \u001b[0mattrs\u001b[0m\u001b[1;33m=\u001b[0m\u001b[0mattrs\u001b[0m\u001b[1;33m,\u001b[0m\u001b[1;33m\u001b[0m\u001b[1;33m\u001b[0m\u001b[0m\n\u001b[1;32m--> 598\u001b[1;33m               ctx=ctx)\n\u001b[0m\u001b[0;32m    599\u001b[0m         \u001b[1;32melse\u001b[0m\u001b[1;33m:\u001b[0m\u001b[1;33m\u001b[0m\u001b[1;33m\u001b[0m\u001b[0m\n\u001b[0;32m    600\u001b[0m           outputs = execute.execute_with_cancellation(\n",
      "\u001b[1;32m~\\Anaconda3\\envs\\grab\\lib\\site-packages\\tensorflow\\python\\eager\\execute.py\u001b[0m in \u001b[0;36mquick_execute\u001b[1;34m(op_name, num_outputs, inputs, attrs, ctx, name)\u001b[0m\n\u001b[0;32m     58\u001b[0m     \u001b[0mctx\u001b[0m\u001b[1;33m.\u001b[0m\u001b[0mensure_initialized\u001b[0m\u001b[1;33m(\u001b[0m\u001b[1;33m)\u001b[0m\u001b[1;33m\u001b[0m\u001b[1;33m\u001b[0m\u001b[0m\n\u001b[0;32m     59\u001b[0m     tensors = pywrap_tfe.TFE_Py_Execute(ctx._handle, device_name, op_name,\n\u001b[1;32m---> 60\u001b[1;33m                                         inputs, attrs, num_outputs)\n\u001b[0m\u001b[0;32m     61\u001b[0m   \u001b[1;32mexcept\u001b[0m \u001b[0mcore\u001b[0m\u001b[1;33m.\u001b[0m\u001b[0m_NotOkStatusException\u001b[0m \u001b[1;32mas\u001b[0m \u001b[0me\u001b[0m\u001b[1;33m:\u001b[0m\u001b[1;33m\u001b[0m\u001b[1;33m\u001b[0m\u001b[0m\n\u001b[0;32m     62\u001b[0m     \u001b[1;32mif\u001b[0m \u001b[0mname\u001b[0m \u001b[1;32mis\u001b[0m \u001b[1;32mnot\u001b[0m \u001b[1;32mNone\u001b[0m\u001b[1;33m:\u001b[0m\u001b[1;33m\u001b[0m\u001b[1;33m\u001b[0m\u001b[0m\n",
      "\u001b[1;31mKeyboardInterrupt\u001b[0m: "
     ]
    }
   ],
   "source": [
    "ll = [train_model(i, dataset)(X) for i in range(2,10)]"
   ]
  },
  {
   "cell_type": "code",
   "execution_count": 44,
   "metadata": {},
   "outputs": [
    {
     "data": {
      "image/png": "[encoded data removed]",
      "text/plain": [
       "<Figure size 576x396 with 2 Axes>"
      ]
     },
     "metadata": {},
     "output_type": "display_data"
    }
   ],
   "source": [
    "# Compute log likelihood at each point on a grid\n",
    "Np = 100 #number of grid points\n",
    "Xp, Yp = np.meshgrid(np.linspace(-2,8,Np), np.linspace(0,20,Np))\n",
    "Pp = np.column_stack([Xp.flatten(), Yp.flatten()])\n",
    "Z, _ = model(Pp.astype('float32'), sampling=False)\n",
    "Z = np.reshape(Z, (Np, Np))\n",
    "        \n",
    "# Show the fit mixture density\n",
    "plt.imshow(np.exp(Z),\n",
    "           extent=(-2, 8, 0, 20),\n",
    "           origin='lower')\n",
    "cbar = plt.colorbar()\n",
    "cbar.ax.set_ylabel('Likelihood')\n",
    "plt.show()"
   ]
  },
  {
   "cell_type": "code",
   "execution_count": 45,
   "metadata": {},
   "outputs": [
    {
     "data": {
      "image/png": "[encoded data removed]",
      "text/plain": [
       "<Figure size 576x396 with 1 Axes>"
      ]
     },
     "metadata": {},
     "output_type": "display_data"
    }
   ],
   "source": [
    "# Sample from the std deviation variational posterior\n",
    "stds = tf.pow(tfd.Gamma(model.alpha,model.beta).sample(10000),-0.5)\n",
    "\n",
    "# Plot the samples\n",
    "sns.distplot(stds[:, 0, 0])\n",
    "plt.show()"
   ]
  },
  {
   "cell_type": "code",
   "execution_count": 47,
   "metadata": {},
   "outputs": [
    {
     "data": {
      "image/png": "[encoded data removed]",
      "text/plain": [
       "<Figure size 576x396 with 1 Axes>"
      ]
     },
     "metadata": {},
     "output_type": "display_data"
    }
   ],
   "source": [
    "# Sample from the mean variational posterior\n",
    "means = tfd.Normal(model.locs, model.scales).sample(10000)\n",
    "\n",
    "# Plot the mean samples for a single \n",
    "sns.kdeplot(means[:, 0, 0].numpy(),\n",
    "            means[:, 0, 1].numpy(),\n",
    "            n_levels=10)\n",
    "plt.show()"
   ]
  },
  {
   "cell_type": "markdown",
   "metadata": {},
   "source": [
    "# Probabilistic Graphical Model\n",
    "\n",
    "Probabilistic Graphical Model is a probabilistic model for which a graph expresses the conditional dependence structure between random variables. Directed Graphical Models (DGMs) (or Bayesian Networks BNs) represent conditional dependencies between variables.\n",
    "\n",
    "Structure learning methods of the PGM can be either constraint- or score-based.\n",
    "\n",
    "Constraint-based structure learning use statistics tests to learn marginal/conditional independence relationships (or constraints) from the data and prune the graph-searching space using obtained constraints.\n",
    "\n",
    "Score-based structure learning assigns each candidate Directed Acyclic Graph (DAG) a score reflecting the goodness of fit as the objective function to be optimised, and uses a global score such as BIC or Bayesian marginal likelihood to find structures that maximises the score."
   ]
  },
  {
   "cell_type": "code",
   "execution_count": null,
   "metadata": {},
   "outputs": [],
   "source": []
  }
 ],
 "metadata": {
  "kernelspec": {
   "display_name": "grab",
   "language": "python",
   "name": "grab"
  },
  "language_info": {
   "codemirror_mode": {
    "name": "ipython",
    "version": 3
   },
   "file_extension": ".py",
   "mimetype": "text/x-python",
   "name": "python",
   "nbconvert_exporter": "python",
   "pygments_lexer": "ipython3",
   "version": "3.7.7"
  },
  "latex_envs": {
   "LaTeX_envs_menu_present": true,
   "autoclose": false,
   "autocomplete": true,
   "bibliofile": "biblio.bib",
   "cite_by": "apalike",
   "current_citInitial": 1,
   "eqLabelWithNumbers": true,
   "eqNumInitial": 1,
   "hotkeys": {
    "equation": "Ctrl-E",
    "itemize": "Ctrl-I"
   },
   "labels_anchors": false,
   "latex_user_defs": false,
   "report_style_numbering": false,
   "user_envs_cfg": false
  },
  "notify_time": "5",
  "toc": {
   "base_numbering": 1,
   "nav_menu": {},
   "number_sections": true,
   "sideBar": true,
   "skip_h1_title": false,
   "title_cell": "Table of Contents",
   "title_sidebar": "Contents",
   "toc_cell": false,
   "toc_position": {
    "height": "calc(100% - 180px)",
    "left": "10px",
    "top": "150px",
    "width": "165px"
   },
   "toc_section_display": true,
   "toc_window_display": false
  },
  "varInspector": {
   "cols": {
    "lenName": 16,
    "lenType": 16,
    "lenVar": 40
   },
   "kernels_config": {
    "python": {
     "delete_cmd_postfix": "",
     "delete_cmd_prefix": "del ",
     "library": "var_list.py",
     "varRefreshCmd": "print(var_dic_list())"
    },
    "r": {
     "delete_cmd_postfix": ") ",
     "delete_cmd_prefix": "rm(",
     "library": "var_list.r",
     "varRefreshCmd": "cat(var_dic_list()) "
    }
   },
   "types_to_exclude": [
    "module",
    "function",
    "builtin_function_or_method",
    "instance",
    "_Feature"
   ],
   "window_display": false
  }
 },
 "nbformat": 4,
 "nbformat_minor": 4
}
